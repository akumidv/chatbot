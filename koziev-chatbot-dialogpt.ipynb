{
 "nbformat": 4,
 "nbformat_minor": 0,
 "metadata": {
  "colab": {
   "name": "koziev-chatbot.ipynb",
   "provenance": [],
   "collapsed_sections": []
  },
  "kernelspec": {
   "name": "python3",
   "display_name": "Python 3"
  },
  "language_info": {
   "name": "python"
  },
  "accelerator": "GPU"
 },
 "cells": [
  {
   "cell_type": "markdown",
   "metadata": {
    "id": "l6MZn57eq839"
   },
   "source": [
    "# Монтируем диск для доступа к дополнительным файлам"
   ]
  },
  {
   "cell_type": "code",
   "metadata": {
    "colab": {
     "base_uri": "https://localhost:8080/"
    },
    "id": "KSlHNV3DrCFv",
    "outputId": "f534f469-bd65-47df-d626-ba0ee85c9848"
   },
   "source": [
    "# Обеспечиваем подгрузку данных и их хранение в каталоге ноутубка MyDrive/Koziev-chatbot\n",
    "import os\n",
    "from google.colab import drive\n",
    "ADDITIONAL_FILES='/content/gdrive/MyDrive/Koziev-chatbot/addition_data'\n",
    "DIALOPGT3_LAST_MODEL_ZIP='/content/gdrive/MyDrive/Koziev-chatbot/models/dialogpt_checkpoint.zip'\n",
    "\n",
    "drive.mount('/content/gdrive')\n",
    "if not os.path.exists(ADDITIONAL_FILES):\n",
    "    raise ValueError('Нет папки для хранения данных', ADDITIONAL_FILES)\n",
    "%ls $ADDITIONAL_FILES"
   ],
   "execution_count": 1,
   "outputs": [
    {
     "output_type": "stream",
     "text": [
      "Mounted at /content/gdrive\n",
      "ruword2tags.db  tmp.zip\n"
     ],
     "name": "stdout"
    }
   ]
  },
  {
   "cell_type": "markdown",
   "metadata": {
    "id": "sA41iKkgq-Wm"
   },
   "source": [
    "# Установка окружения"
   ]
  },
  {
   "cell_type": "code",
   "metadata": {
    "colab": {
     "base_uri": "https://localhost:8080/"
    },
    "id": "Y777nhiw2vd_",
    "outputId": "baccc68d-2b2c-4481-88d4-53cdb9b77c82"
   },
   "source": [
    "!export LANG=C.UTF-8\n",
    "!export | grep \"LANG=\""
   ],
   "execution_count": 2,
   "outputs": [
    {
     "output_type": "stream",
     "text": [
      "declare -x LANG=\"en_US.UTF-8\"\n"
     ],
     "name": "stdout"
    }
   ]
  },
  {
   "cell_type": "code",
   "metadata": {
    "colab": {
     "base_uri": "https://localhost:8080/"
    },
    "id": "hCn_LD0W22JF",
    "outputId": "f5a8f3f6-ae6d-443b-953c-c60b8c04d978"
   },
   "source": [
    "!apt-get update && apt-get install -y liblzma-dev python-numpy && apt-get clean"
   ],
   "execution_count": 3,
   "outputs": [
    {
     "output_type": "stream",
     "text": [
      "Get:1 https://cloud.r-project.org/bin/linux/ubuntu bionic-cran40/ InRelease [3,626 B]\n",
      "Ign:2 https://developer.download.nvidia.com/compute/cuda/repos/ubuntu1804/x86_64  InRelease\n",
      "Get:3 http://security.ubuntu.com/ubuntu bionic-security InRelease [88.7 kB]\n",
      "Ign:4 https://developer.download.nvidia.com/compute/machine-learning/repos/ubuntu1804/x86_64  InRelease\n",
      "Get:5 https://developer.download.nvidia.com/compute/cuda/repos/ubuntu1804/x86_64  Release [697 B]\n",
      "Hit:6 https://developer.download.nvidia.com/compute/machine-learning/repos/ubuntu1804/x86_64  Release\n",
      "Get:7 http://ppa.launchpad.net/c2d4u.team/c2d4u4.0+/ubuntu bionic InRelease [15.9 kB]\n",
      "Get:8 https://developer.download.nvidia.com/compute/cuda/repos/ubuntu1804/x86_64  Release.gpg [836 B]\n",
      "Hit:10 http://archive.ubuntu.com/ubuntu bionic InRelease\n",
      "Get:11 http://archive.ubuntu.com/ubuntu bionic-updates InRelease [88.7 kB]\n",
      "Ign:12 https://developer.download.nvidia.com/compute/cuda/repos/ubuntu1804/x86_64  Packages\n",
      "Get:12 https://developer.download.nvidia.com/compute/cuda/repos/ubuntu1804/x86_64  Packages [680 kB]\n",
      "Hit:13 http://ppa.launchpad.net/cran/libgit2/ubuntu bionic InRelease\n",
      "Get:14 http://security.ubuntu.com/ubuntu bionic-security/multiverse amd64 Packages [26.7 kB]\n",
      "Hit:15 http://ppa.launchpad.net/deadsnakes/ppa/ubuntu bionic InRelease\n",
      "Get:16 http://archive.ubuntu.com/ubuntu bionic-backports InRelease [74.6 kB]\n",
      "Get:17 http://security.ubuntu.com/ubuntu bionic-security/main amd64 Packages [2,257 kB]\n",
      "Get:18 http://ppa.launchpad.net/graphics-drivers/ppa/ubuntu bionic InRelease [21.3 kB]\n",
      "Get:19 http://archive.ubuntu.com/ubuntu bionic-updates/restricted amd64 Packages [537 kB]\n",
      "Get:20 http://security.ubuntu.com/ubuntu bionic-security/universe amd64 Packages [1,420 kB]\n",
      "Get:21 http://archive.ubuntu.com/ubuntu bionic-updates/main amd64 Packages [2,693 kB]\n",
      "Get:22 http://ppa.launchpad.net/c2d4u.team/c2d4u4.0+/ubuntu bionic/main Sources [1,785 kB]\n",
      "Get:23 http://security.ubuntu.com/ubuntu bionic-security/restricted amd64 Packages [505 kB]\n",
      "Get:24 http://archive.ubuntu.com/ubuntu bionic-updates/multiverse amd64 Packages [33.6 kB]\n",
      "Get:25 http://archive.ubuntu.com/ubuntu bionic-updates/universe amd64 Packages [2,194 kB]\n",
      "Get:26 http://ppa.launchpad.net/c2d4u.team/c2d4u4.0+/ubuntu bionic/main amd64 Packages [913 kB]\n",
      "Get:27 http://ppa.launchpad.net/graphics-drivers/ppa/ubuntu bionic/main amd64 Packages [44.1 kB]\n",
      "Fetched 13.4 MB in 7s (1,849 kB/s)\n",
      "Reading package lists... Done\n",
      "Reading package lists... Done\n",
      "Building dependency tree       \n",
      "Reading state information... Done\n",
      "liblzma-dev is already the newest version (5.2.2-1.3).\n",
      "liblzma-dev set to manually installed.\n",
      "python-numpy is already the newest version (1:1.13.3-2ubuntu1).\n",
      "python-numpy set to manually installed.\n",
      "0 upgraded, 0 newly installed, 0 to remove and 90 not upgraded.\n"
     ],
     "name": "stdout"
    }
   ]
  },
  {
   "cell_type": "code",
   "metadata": {
    "colab": {
     "base_uri": "https://localhost:8080/"
    },
    "id": "JoqnIF8Mrqzr",
    "outputId": "52b4e9e3-e794-4838-b3c2-c24d8e3bbfdf"
   },
   "source": [
    "%pip install tensorflow --use-feature=2020-resolver\n",
    "%pip install sentencepiece lightgbm scikit-learn==0.24.0 gensim pathlib python-crfsuite colorama coloredlogs requests flask flask_sqlalchemy flask_wtf h5py pyconll ufal.udpipe pyyaml --use-feature=2020-resolver\n",
    "%pip install tensorflow-addons --use-feature=2020-resolver\n",
    "%pip install python-Levenshtein\n",
    "%pip install transformers\n",
    "%pip install torch"
   ],
   "execution_count": 4,
   "outputs": [
    {
     "output_type": "stream",
     "text": [
      "\u001B[33mWARNING: --use-feature=2020-resolver no longer has any effect, since it is now the default dependency resolver in pip. This will become an error in pip 21.0.\u001B[0m\n",
      "Requirement already satisfied: tensorflow in /usr/local/lib/python3.7/dist-packages (2.5.0)\n",
      "Requirement already satisfied: keras-preprocessing~=1.1.2 in /usr/local/lib/python3.7/dist-packages (from tensorflow) (1.1.2)\n",
      "Requirement already satisfied: opt-einsum~=3.3.0 in /usr/local/lib/python3.7/dist-packages (from tensorflow) (3.3.0)\n",
      "Requirement already satisfied: six~=1.15.0 in /usr/local/lib/python3.7/dist-packages (from tensorflow) (1.15.0)\n",
      "Requirement already satisfied: tensorboard~=2.5 in /usr/local/lib/python3.7/dist-packages (from tensorflow) (2.5.0)\n",
      "Requirement already satisfied: wrapt~=1.12.1 in /usr/local/lib/python3.7/dist-packages (from tensorflow) (1.12.1)\n",
      "Requirement already satisfied: gast==0.4.0 in /usr/local/lib/python3.7/dist-packages (from tensorflow) (0.4.0)\n",
      "Requirement already satisfied: wheel~=0.35 in /usr/local/lib/python3.7/dist-packages (from tensorflow) (0.36.2)\n",
      "Requirement already satisfied: keras-nightly~=2.5.0.dev in /usr/local/lib/python3.7/dist-packages (from tensorflow) (2.5.0.dev2021032900)\n",
      "Requirement already satisfied: h5py~=3.1.0 in /usr/local/lib/python3.7/dist-packages (from tensorflow) (3.1.0)\n",
      "Requirement already satisfied: absl-py~=0.10 in /usr/local/lib/python3.7/dist-packages (from tensorflow) (0.12.0)\n",
      "Requirement already satisfied: typing-extensions~=3.7.4 in /usr/local/lib/python3.7/dist-packages (from tensorflow) (3.7.4.3)\n",
      "Requirement already satisfied: flatbuffers~=1.12.0 in /usr/local/lib/python3.7/dist-packages (from tensorflow) (1.12)\n",
      "Requirement already satisfied: tensorflow-estimator<2.6.0,>=2.5.0rc0 in /usr/local/lib/python3.7/dist-packages (from tensorflow) (2.5.0)\n",
      "Requirement already satisfied: google-pasta~=0.2 in /usr/local/lib/python3.7/dist-packages (from tensorflow) (0.2.0)\n",
      "Requirement already satisfied: grpcio~=1.34.0 in /usr/local/lib/python3.7/dist-packages (from tensorflow) (1.34.1)\n",
      "Requirement already satisfied: numpy~=1.19.2 in /usr/local/lib/python3.7/dist-packages (from tensorflow) (1.19.5)\n",
      "Requirement already satisfied: protobuf>=3.9.2 in /usr/local/lib/python3.7/dist-packages (from tensorflow) (3.17.3)\n",
      "Requirement already satisfied: astunparse~=1.6.3 in /usr/local/lib/python3.7/dist-packages (from tensorflow) (1.6.3)\n",
      "Requirement already satisfied: termcolor~=1.1.0 in /usr/local/lib/python3.7/dist-packages (from tensorflow) (1.1.0)\n",
      "Requirement already satisfied: cached-property in /usr/local/lib/python3.7/dist-packages (from h5py~=3.1.0->tensorflow) (1.5.2)\n",
      "Requirement already satisfied: tensorboard-data-server<0.7.0,>=0.6.0 in /usr/local/lib/python3.7/dist-packages (from tensorboard~=2.5->tensorflow) (0.6.1)\n",
      "Requirement already satisfied: google-auth<2,>=1.6.3 in /usr/local/lib/python3.7/dist-packages (from tensorboard~=2.5->tensorflow) (1.32.1)\n",
      "Requirement already satisfied: requests<3,>=2.21.0 in /usr/local/lib/python3.7/dist-packages (from tensorboard~=2.5->tensorflow) (2.23.0)\n",
      "Requirement already satisfied: tensorboard-plugin-wit>=1.6.0 in /usr/local/lib/python3.7/dist-packages (from tensorboard~=2.5->tensorflow) (1.8.0)\n",
      "Requirement already satisfied: markdown>=2.6.8 in /usr/local/lib/python3.7/dist-packages (from tensorboard~=2.5->tensorflow) (3.3.4)\n",
      "Requirement already satisfied: google-auth-oauthlib<0.5,>=0.4.1 in /usr/local/lib/python3.7/dist-packages (from tensorboard~=2.5->tensorflow) (0.4.4)\n",
      "Requirement already satisfied: werkzeug>=0.11.15 in /usr/local/lib/python3.7/dist-packages (from tensorboard~=2.5->tensorflow) (1.0.1)\n",
      "Requirement already satisfied: setuptools>=41.0.0 in /usr/local/lib/python3.7/dist-packages (from tensorboard~=2.5->tensorflow) (57.2.0)\n",
      "Requirement already satisfied: pyasn1-modules>=0.2.1 in /usr/local/lib/python3.7/dist-packages (from google-auth<2,>=1.6.3->tensorboard~=2.5->tensorflow) (0.2.8)\n",
      "Requirement already satisfied: cachetools<5.0,>=2.0.0 in /usr/local/lib/python3.7/dist-packages (from google-auth<2,>=1.6.3->tensorboard~=2.5->tensorflow) (4.2.2)\n",
      "Requirement already satisfied: rsa<5,>=3.1.4 in /usr/local/lib/python3.7/dist-packages (from google-auth<2,>=1.6.3->tensorboard~=2.5->tensorflow) (4.7.2)\n",
      "Requirement already satisfied: requests-oauthlib>=0.7.0 in /usr/local/lib/python3.7/dist-packages (from google-auth-oauthlib<0.5,>=0.4.1->tensorboard~=2.5->tensorflow) (1.3.0)\n",
      "Requirement already satisfied: importlib-metadata in /usr/local/lib/python3.7/dist-packages (from markdown>=2.6.8->tensorboard~=2.5->tensorflow) (4.6.1)\n",
      "Requirement already satisfied: pyasn1<0.5.0,>=0.4.6 in /usr/local/lib/python3.7/dist-packages (from pyasn1-modules>=0.2.1->google-auth<2,>=1.6.3->tensorboard~=2.5->tensorflow) (0.4.8)\n",
      "Requirement already satisfied: certifi>=2017.4.17 in /usr/local/lib/python3.7/dist-packages (from requests<3,>=2.21.0->tensorboard~=2.5->tensorflow) (2021.5.30)\n",
      "Requirement already satisfied: chardet<4,>=3.0.2 in /usr/local/lib/python3.7/dist-packages (from requests<3,>=2.21.0->tensorboard~=2.5->tensorflow) (3.0.4)\n",
      "Requirement already satisfied: urllib3!=1.25.0,!=1.25.1,<1.26,>=1.21.1 in /usr/local/lib/python3.7/dist-packages (from requests<3,>=2.21.0->tensorboard~=2.5->tensorflow) (1.24.3)\n",
      "Requirement already satisfied: idna<3,>=2.5 in /usr/local/lib/python3.7/dist-packages (from requests<3,>=2.21.0->tensorboard~=2.5->tensorflow) (2.10)\n",
      "Requirement already satisfied: oauthlib>=3.0.0 in /usr/local/lib/python3.7/dist-packages (from requests-oauthlib>=0.7.0->google-auth-oauthlib<0.5,>=0.4.1->tensorboard~=2.5->tensorflow) (3.1.1)\n",
      "Requirement already satisfied: zipp>=0.5 in /usr/local/lib/python3.7/dist-packages (from importlib-metadata->markdown>=2.6.8->tensorboard~=2.5->tensorflow) (3.5.0)\n",
      "\u001B[33mWARNING: --use-feature=2020-resolver no longer has any effect, since it is now the default dependency resolver in pip. This will become an error in pip 21.0.\u001B[0m\n",
      "Collecting sentencepiece\n",
      "  Downloading sentencepiece-0.1.96-cp37-cp37m-manylinux_2_17_x86_64.manylinux2014_x86_64.whl (1.2 MB)\n",
      "\u001B[K     |████████████████████████████████| 1.2 MB 4.1 MB/s \n",
      "\u001B[?25hRequirement already satisfied: lightgbm in /usr/local/lib/python3.7/dist-packages (2.2.3)\n",
      "Collecting scikit-learn==0.24.0\n",
      "  Downloading scikit_learn-0.24.0-cp37-cp37m-manylinux2010_x86_64.whl (22.3 MB)\n",
      "\u001B[K     |████████████████████████████████| 22.3 MB 1.4 MB/s \n",
      "\u001B[?25hRequirement already satisfied: gensim in /usr/local/lib/python3.7/dist-packages (3.6.0)\n",
      "Requirement already satisfied: pathlib in /usr/local/lib/python3.7/dist-packages (1.0.1)\n",
      "Collecting python-crfsuite\n",
      "  Downloading python_crfsuite-0.9.7-cp37-cp37m-manylinux1_x86_64.whl (743 kB)\n",
      "\u001B[K     |████████████████████████████████| 743 kB 62.2 MB/s \n",
      "\u001B[?25hCollecting colorama\n",
      "  Downloading colorama-0.4.4-py2.py3-none-any.whl (16 kB)\n",
      "Collecting coloredlogs\n",
      "  Downloading coloredlogs-15.0.1-py2.py3-none-any.whl (46 kB)\n",
      "\u001B[K     |████████████████████████████████| 46 kB 4.4 MB/s \n",
      "\u001B[?25hRequirement already satisfied: requests in /usr/local/lib/python3.7/dist-packages (2.23.0)\n",
      "Requirement already satisfied: flask in /usr/local/lib/python3.7/dist-packages (1.1.4)\n",
      "Collecting flask_sqlalchemy\n",
      "  Downloading Flask_SQLAlchemy-2.5.1-py2.py3-none-any.whl (17 kB)\n",
      "Collecting flask_wtf\n",
      "  Downloading Flask_WTF-0.15.1-py2.py3-none-any.whl (13 kB)\n",
      "Requirement already satisfied: h5py in /usr/local/lib/python3.7/dist-packages (3.1.0)\n",
      "Collecting pyconll\n",
      "  Downloading pyconll-3.1.0-py3-none-any.whl (26 kB)\n",
      "Collecting ufal.udpipe\n",
      "  Downloading ufal.udpipe-1.2.0.3.tar.gz (304 kB)\n",
      "\u001B[K     |████████████████████████████████| 304 kB 54.1 MB/s \n",
      "\u001B[?25hRequirement already satisfied: pyyaml in /usr/local/lib/python3.7/dist-packages (3.13)\n",
      "Requirement already satisfied: numpy>=1.13.3 in /usr/local/lib/python3.7/dist-packages (from scikit-learn==0.24.0) (1.19.5)\n",
      "Requirement already satisfied: scipy>=0.19.1 in /usr/local/lib/python3.7/dist-packages (from scikit-learn==0.24.0) (1.4.1)\n",
      "Collecting threadpoolctl>=2.0.0\n",
      "  Downloading threadpoolctl-2.2.0-py3-none-any.whl (12 kB)\n",
      "Requirement already satisfied: joblib>=0.11 in /usr/local/lib/python3.7/dist-packages (from scikit-learn==0.24.0) (1.0.1)\n",
      "Requirement already satisfied: smart-open>=1.2.1 in /usr/local/lib/python3.7/dist-packages (from gensim) (5.1.0)\n",
      "Requirement already satisfied: six>=1.5.0 in /usr/local/lib/python3.7/dist-packages (from gensim) (1.15.0)\n",
      "Collecting humanfriendly>=9.1\n",
      "  Downloading humanfriendly-9.2-py2.py3-none-any.whl (86 kB)\n",
      "\u001B[K     |████████████████████████████████| 86 kB 6.7 MB/s \n",
      "\u001B[?25hRequirement already satisfied: chardet<4,>=3.0.2 in /usr/local/lib/python3.7/dist-packages (from requests) (3.0.4)\n",
      "Requirement already satisfied: certifi>=2017.4.17 in /usr/local/lib/python3.7/dist-packages (from requests) (2021.5.30)\n",
      "Requirement already satisfied: idna<3,>=2.5 in /usr/local/lib/python3.7/dist-packages (from requests) (2.10)\n",
      "Requirement already satisfied: urllib3!=1.25.0,!=1.25.1,<1.26,>=1.21.1 in /usr/local/lib/python3.7/dist-packages (from requests) (1.24.3)\n",
      "Requirement already satisfied: Werkzeug<2.0,>=0.15 in /usr/local/lib/python3.7/dist-packages (from flask) (1.0.1)\n",
      "Requirement already satisfied: itsdangerous<2.0,>=0.24 in /usr/local/lib/python3.7/dist-packages (from flask) (1.1.0)\n",
      "Requirement already satisfied: Jinja2<3.0,>=2.10.1 in /usr/local/lib/python3.7/dist-packages (from flask) (2.11.3)\n",
      "Requirement already satisfied: click<8.0,>=5.1 in /usr/local/lib/python3.7/dist-packages (from flask) (7.1.2)\n",
      "Requirement already satisfied: MarkupSafe>=0.23 in /usr/local/lib/python3.7/dist-packages (from Jinja2<3.0,>=2.10.1->flask) (2.0.1)\n",
      "Requirement already satisfied: SQLAlchemy>=0.8.0 in /usr/local/lib/python3.7/dist-packages (from flask_sqlalchemy) (1.4.20)\n",
      "Requirement already satisfied: greenlet!=0.4.17 in /usr/local/lib/python3.7/dist-packages (from SQLAlchemy>=0.8.0->flask_sqlalchemy) (1.1.0)\n",
      "Requirement already satisfied: importlib-metadata in /usr/local/lib/python3.7/dist-packages (from SQLAlchemy>=0.8.0->flask_sqlalchemy) (4.6.1)\n",
      "Collecting WTForms\n",
      "  Downloading WTForms-2.3.3-py2.py3-none-any.whl (169 kB)\n",
      "\u001B[K     |████████████████████████████████| 169 kB 70.0 MB/s \n",
      "\u001B[?25hRequirement already satisfied: cached-property in /usr/local/lib/python3.7/dist-packages (from h5py) (1.5.2)\n",
      "Requirement already satisfied: typing-extensions>=3.6.4 in /usr/local/lib/python3.7/dist-packages (from importlib-metadata->SQLAlchemy>=0.8.0->flask_sqlalchemy) (3.7.4.3)\n",
      "Requirement already satisfied: zipp>=0.5 in /usr/local/lib/python3.7/dist-packages (from importlib-metadata->SQLAlchemy>=0.8.0->flask_sqlalchemy) (3.5.0)\n",
      "Building wheels for collected packages: ufal.udpipe\n",
      "  Building wheel for ufal.udpipe (setup.py) ... \u001B[?25l\u001B[?25hdone\n",
      "  Created wheel for ufal.udpipe: filename=ufal.udpipe-1.2.0.3-cp37-cp37m-linux_x86_64.whl size=5626678 sha256=d8c2dca70343c9c8de77a9e7c96ba59030b47b9abe14a66961c66b265f5f83d1\n",
      "  Stored in directory: /root/.cache/pip/wheels/b8/b5/8e/3da091629a21ce2d10bf90759d0cb034ba10a5cf7a01e83d64\n",
      "Successfully built ufal.udpipe\n",
      "Installing collected packages: threadpoolctl, WTForms, scikit-learn, humanfriendly, ufal.udpipe, sentencepiece, python-crfsuite, pyconll, flask-wtf, flask-sqlalchemy, coloredlogs, colorama\n",
      "  Attempting uninstall: scikit-learn\n",
      "    Found existing installation: scikit-learn 0.22.2.post1\n",
      "    Uninstalling scikit-learn-0.22.2.post1:\n",
      "      Successfully uninstalled scikit-learn-0.22.2.post1\n",
      "Successfully installed WTForms-2.3.3 colorama-0.4.4 coloredlogs-15.0.1 flask-sqlalchemy-2.5.1 flask-wtf-0.15.1 humanfriendly-9.2 pyconll-3.1.0 python-crfsuite-0.9.7 scikit-learn-0.24.0 sentencepiece-0.1.96 threadpoolctl-2.2.0 ufal.udpipe-1.2.0.3\n",
      "\u001B[33mWARNING: --use-feature=2020-resolver no longer has any effect, since it is now the default dependency resolver in pip. This will become an error in pip 21.0.\u001B[0m\n",
      "Collecting tensorflow-addons\n",
      "  Downloading tensorflow_addons-0.13.0-cp37-cp37m-manylinux2010_x86_64.whl (679 kB)\n",
      "\u001B[K     |████████████████████████████████| 679 kB 5.8 MB/s \n",
      "\u001B[?25hRequirement already satisfied: typeguard>=2.7 in /usr/local/lib/python3.7/dist-packages (from tensorflow-addons) (2.7.1)\n",
      "Installing collected packages: tensorflow-addons\n",
      "Successfully installed tensorflow-addons-0.13.0\n",
      "Collecting python-Levenshtein\n",
      "  Downloading python-Levenshtein-0.12.2.tar.gz (50 kB)\n",
      "\u001B[K     |████████████████████████████████| 50 kB 2.8 MB/s \n",
      "\u001B[?25hRequirement already satisfied: setuptools in /usr/local/lib/python3.7/dist-packages (from python-Levenshtein) (57.2.0)\n",
      "Building wheels for collected packages: python-Levenshtein\n",
      "  Building wheel for python-Levenshtein (setup.py) ... \u001B[?25l\u001B[?25hdone\n",
      "  Created wheel for python-Levenshtein: filename=python_Levenshtein-0.12.2-cp37-cp37m-linux_x86_64.whl size=149858 sha256=1bc210c8e0c0ff596c0bb4ddcd3879c74acc5a127042d238b5376e7dbb28217d\n",
      "  Stored in directory: /root/.cache/pip/wheels/05/5f/ca/7c4367734892581bb5ff896f15027a932c551080b2abd3e00d\n",
      "Successfully built python-Levenshtein\n",
      "Installing collected packages: python-Levenshtein\n",
      "Successfully installed python-Levenshtein-0.12.2\n",
      "Collecting transformers\n",
      "  Downloading transformers-4.9.1-py3-none-any.whl (2.6 MB)\n",
      "\u001B[K     |████████████████████████████████| 2.6 MB 4.3 MB/s \n",
      "\u001B[?25hRequirement already satisfied: numpy>=1.17 in /usr/local/lib/python3.7/dist-packages (from transformers) (1.19.5)\n",
      "Collecting huggingface-hub==0.0.12\n",
      "  Downloading huggingface_hub-0.0.12-py3-none-any.whl (37 kB)\n",
      "Requirement already satisfied: requests in /usr/local/lib/python3.7/dist-packages (from transformers) (2.23.0)\n",
      "Collecting sacremoses\n",
      "  Downloading sacremoses-0.0.45-py3-none-any.whl (895 kB)\n",
      "\u001B[K     |████████████████████████████████| 895 kB 67.4 MB/s \n",
      "\u001B[?25hCollecting tokenizers<0.11,>=0.10.1\n",
      "  Downloading tokenizers-0.10.3-cp37-cp37m-manylinux_2_5_x86_64.manylinux1_x86_64.manylinux_2_12_x86_64.manylinux2010_x86_64.whl (3.3 MB)\n",
      "\u001B[K     |████████████████████████████████| 3.3 MB 61.1 MB/s \n",
      "\u001B[?25hRequirement already satisfied: packaging in /usr/local/lib/python3.7/dist-packages (from transformers) (21.0)\n",
      "Requirement already satisfied: tqdm>=4.27 in /usr/local/lib/python3.7/dist-packages (from transformers) (4.41.1)\n",
      "Requirement already satisfied: filelock in /usr/local/lib/python3.7/dist-packages (from transformers) (3.0.12)\n",
      "Requirement already satisfied: regex!=2019.12.17 in /usr/local/lib/python3.7/dist-packages (from transformers) (2019.12.20)\n",
      "Collecting pyyaml>=5.1\n",
      "  Downloading PyYAML-5.4.1-cp37-cp37m-manylinux1_x86_64.whl (636 kB)\n",
      "\u001B[K     |████████████████████████████████| 636 kB 67.8 MB/s \n",
      "\u001B[?25hRequirement already satisfied: importlib-metadata in /usr/local/lib/python3.7/dist-packages (from transformers) (4.6.1)\n",
      "Requirement already satisfied: typing-extensions in /usr/local/lib/python3.7/dist-packages (from huggingface-hub==0.0.12->transformers) (3.7.4.3)\n",
      "Requirement already satisfied: pyparsing>=2.0.2 in /usr/local/lib/python3.7/dist-packages (from packaging->transformers) (2.4.7)\n",
      "Requirement already satisfied: zipp>=0.5 in /usr/local/lib/python3.7/dist-packages (from importlib-metadata->transformers) (3.5.0)\n",
      "Requirement already satisfied: urllib3!=1.25.0,!=1.25.1,<1.26,>=1.21.1 in /usr/local/lib/python3.7/dist-packages (from requests->transformers) (1.24.3)\n",
      "Requirement already satisfied: idna<3,>=2.5 in /usr/local/lib/python3.7/dist-packages (from requests->transformers) (2.10)\n",
      "Requirement already satisfied: chardet<4,>=3.0.2 in /usr/local/lib/python3.7/dist-packages (from requests->transformers) (3.0.4)\n",
      "Requirement already satisfied: certifi>=2017.4.17 in /usr/local/lib/python3.7/dist-packages (from requests->transformers) (2021.5.30)\n",
      "Requirement already satisfied: joblib in /usr/local/lib/python3.7/dist-packages (from sacremoses->transformers) (1.0.1)\n",
      "Requirement already satisfied: six in /usr/local/lib/python3.7/dist-packages (from sacremoses->transformers) (1.15.0)\n",
      "Requirement already satisfied: click in /usr/local/lib/python3.7/dist-packages (from sacremoses->transformers) (7.1.2)\n",
      "Installing collected packages: tokenizers, sacremoses, pyyaml, huggingface-hub, transformers\n",
      "  Attempting uninstall: pyyaml\n",
      "    Found existing installation: PyYAML 3.13\n",
      "    Uninstalling PyYAML-3.13:\n",
      "      Successfully uninstalled PyYAML-3.13\n",
      "Successfully installed huggingface-hub-0.0.12 pyyaml-5.4.1 sacremoses-0.0.45 tokenizers-0.10.3 transformers-4.9.1\n",
      "Requirement already satisfied: torch in /usr/local/lib/python3.7/dist-packages (1.9.0+cu102)\n",
      "Requirement already satisfied: typing-extensions in /usr/local/lib/python3.7/dist-packages (from torch) (3.7.4.3)\n"
     ],
     "name": "stdout"
    }
   ]
  },
  {
   "cell_type": "code",
   "metadata": {
    "colab": {
     "base_uri": "https://localhost:8080/",
     "height": 588
    },
    "id": "gZrL3_5Jrt1V",
    "outputId": "c6960132-b9fe-42cb-bcf8-fe94aa76e56c"
   },
   "source": [
    "%pip install python-telegram-bot --upgrade"
   ],
   "execution_count": 5,
   "outputs": [
    {
     "output_type": "stream",
     "text": [
      "Collecting python-telegram-bot\n",
      "  Downloading python_telegram_bot-13.7-py3-none-any.whl (490 kB)\n",
      "\u001B[K     |████████████████████████████████| 490 kB 4.0 MB/s \n",
      "\u001B[?25hRequirement already satisfied: pytz>=2018.6 in /usr/local/lib/python3.7/dist-packages (from python-telegram-bot) (2018.9)\n",
      "Requirement already satisfied: certifi in /usr/local/lib/python3.7/dist-packages (from python-telegram-bot) (2021.5.30)\n",
      "Collecting APScheduler==3.6.3\n",
      "  Downloading APScheduler-3.6.3-py2.py3-none-any.whl (58 kB)\n",
      "\u001B[K     |████████████████████████████████| 58 kB 8.1 MB/s \n",
      "\u001B[?25hCollecting tornado>=6.1\n",
      "  Downloading tornado-6.1-cp37-cp37m-manylinux2010_x86_64.whl (428 kB)\n",
      "\u001B[K     |████████████████████████████████| 428 kB 38.2 MB/s \n",
      "\u001B[?25hRequirement already satisfied: cachetools==4.2.2 in /usr/local/lib/python3.7/dist-packages (from python-telegram-bot) (4.2.2)\n",
      "Requirement already satisfied: six>=1.4.0 in /usr/local/lib/python3.7/dist-packages (from APScheduler==3.6.3->python-telegram-bot) (1.15.0)\n",
      "Requirement already satisfied: setuptools>=0.7 in /usr/local/lib/python3.7/dist-packages (from APScheduler==3.6.3->python-telegram-bot) (57.2.0)\n",
      "Requirement already satisfied: tzlocal>=1.2 in /usr/local/lib/python3.7/dist-packages (from APScheduler==3.6.3->python-telegram-bot) (1.5.1)\n",
      "Installing collected packages: tornado, APScheduler, python-telegram-bot\n",
      "  Attempting uninstall: tornado\n",
      "    Found existing installation: tornado 5.1.1\n",
      "    Uninstalling tornado-5.1.1:\n",
      "      Successfully uninstalled tornado-5.1.1\n",
      "\u001B[31mERROR: pip's dependency resolver does not currently take into account all the packages that are installed. This behaviour is the source of the following dependency conflicts.\n",
      "google-colab 1.0.0 requires tornado~=5.1.0; python_version >= \"3.0\", but you have tornado 6.1 which is incompatible.\u001B[0m\n",
      "Successfully installed APScheduler-3.6.3 python-telegram-bot-13.7 tornado-6.1\n"
     ],
     "name": "stdout"
    },
    {
     "output_type": "display_data",
     "data": {
      "application/vnd.colab-display-data+json": {
       "pip_warning": {
        "packages": [
         "tornado"
        ]
       }
      }
     },
     "metadata": {
      "tags": []
     }
    }
   ]
  },
  {
   "cell_type": "code",
   "metadata": {
    "colab": {
     "base_uri": "https://localhost:8080/"
    },
    "id": "oDXptx1TqpPZ",
    "outputId": "12eb2888-3195-4059-b5dc-14f0f7406d23"
   },
   "source": [
    "%mkdir /content/temp\n",
    "%cd /content/temp\n",
    "!git clone https://github.com/Koziev/ruword2tags.git\n",
    "%cp -r $ADDITIONAL_FILES/ruword2tags.db /content/temp/ruword2tags/ruword2tags/ruword2tags.db\n",
    "# Если не через арихв, а через файл из гугл хранилища Козиева\n",
    "#%cd /content/temp/ruword2tags/ruword2tags\n",
    "#!gdown https://drive.google.com/u/0/uc?id=1xlL8ijnwE6tAPpsil7Q1yWkXY4mn2YCd&export=download\n",
    "%cd /content/temp/ruword2tags\n",
    "%pip install .\n",
    "%cd /content/"
   ],
   "execution_count": 6,
   "outputs": [
    {
     "output_type": "stream",
     "text": [
      "/content/temp\n",
      "Cloning into 'ruword2tags'...\n",
      "remote: Enumerating objects: 230, done.\u001B[K\n",
      "remote: Counting objects: 100% (35/35), done.\u001B[K\n",
      "remote: Compressing objects: 100% (27/27), done.\u001B[K\n",
      "remote: Total 230 (delta 15), reused 27 (delta 8), pack-reused 195\u001B[K\n",
      "Receiving objects: 100% (230/230), 1.20 GiB | 5.36 MiB/s, done.\n",
      "Resolving deltas: 100% (114/114), done.\n",
      "/content/temp/ruword2tags\n",
      "Processing /content/temp/ruword2tags\n",
      "\u001B[33m  DEPRECATION: A future pip version will change local packages to be built in-place without first copying to a temporary directory. We recommend you use --use-feature=in-tree-build to test your packages with this new behavior before it becomes the default.\n",
      "   pip 21.3 will remove support for this functionality. You can find discussion regarding this at https://github.com/pypa/pip/issues/7555.\u001B[0m\n",
      "Building wheels for collected packages: ruword2tags\n",
      "  Building wheel for ruword2tags (setup.py) ... \u001B[?25l\u001B[?25hdone\n",
      "  Created wheel for ruword2tags: filename=ruword2tags-0.0.52-py3-none-any.whl size=90241828 sha256=dd87c887710062a12f676e7833965346378524ff2726590e325da3512861dea8\n",
      "  Stored in directory: /tmp/pip-ephem-wheel-cache-o1ypl6vf/wheels/06/0f/95/af4534dd48d226f5bdf30640a9346a872b4aca580c97f561ee\n",
      "Successfully built ruword2tags\n",
      "Installing collected packages: ruword2tags\n",
      "Successfully installed ruword2tags-0.0.52\n",
      "/content\n"
     ],
     "name": "stdout"
    }
   ]
  },
  {
   "cell_type": "code",
   "metadata": {
    "colab": {
     "base_uri": "https://localhost:8080/"
    },
    "id": "bRzTYtqD243h",
    "outputId": "82d6daf9-7750-4ac9-d2b7-9daaf131cfec"
   },
   "source": [
    "%pip install git+https://github.com/Koziev/rulemma\n",
    "%pip install git+https://github.com/Koziev/rutokenizer\n",
    "%pip install git+https://github.com/Koziev/rupostagger\n",
    "#pip install git+https://github.com/Koziev/ruword2tags\n",
    "%pip install git+https://github.com/Koziev/rusyllab\n",
    "%pip install git+https://github.com/Koziev/ruchunker"
   ],
   "execution_count": 7,
   "outputs": [
    {
     "output_type": "stream",
     "text": [
      "Collecting git+https://github.com/Koziev/rulemma\n",
      "  Cloning https://github.com/Koziev/rulemma to /tmp/pip-req-build-k2885vbt\n",
      "  Running command git clone -q https://github.com/Koziev/rulemma /tmp/pip-req-build-k2885vbt\n",
      "Building wheels for collected packages: rulemma\n",
      "  Building wheel for rulemma (setup.py) ... \u001B[?25l\u001B[?25hdone\n",
      "  Created wheel for rulemma: filename=rulemma-0.0.44-py3-none-any.whl size=16113695 sha256=92f12fd3e354639ca07f3a5f5244047df5c2071505ef0624be0b326d43c14298\n",
      "  Stored in directory: /tmp/pip-ephem-wheel-cache-t0mpi63v/wheels/b7/89/eb/a075486911bb14812212596d44434c565b9d6f03659c09fbbe\n",
      "Successfully built rulemma\n",
      "Installing collected packages: rulemma\n",
      "Successfully installed rulemma-0.0.44\n",
      "Collecting git+https://github.com/Koziev/rutokenizer\n",
      "  Cloning https://github.com/Koziev/rutokenizer to /tmp/pip-req-build-p9uhlw69\n",
      "  Running command git clone -q https://github.com/Koziev/rutokenizer /tmp/pip-req-build-p9uhlw69\n",
      "Building wheels for collected packages: rutokenizer\n",
      "  Building wheel for rutokenizer (setup.py) ... \u001B[?25l\u001B[?25hdone\n",
      "  Created wheel for rutokenizer: filename=rutokenizer-0.0.24-py3-none-any.whl size=30370096 sha256=6d93c3e72ff6e9b9557b6dd1a44e85afd18e76a2401d5c285a16a75fd50089a9\n",
      "  Stored in directory: /tmp/pip-ephem-wheel-cache-pdhexkup/wheels/4f/16/38/bc9a8709d5147c32f2847e21aa6ce976e16399b6c14407d8ab\n",
      "Successfully built rutokenizer\n",
      "Installing collected packages: rutokenizer\n",
      "Successfully installed rutokenizer-0.0.24\n",
      "Collecting git+https://github.com/Koziev/rupostagger\n",
      "  Cloning https://github.com/Koziev/rupostagger to /tmp/pip-req-build-9n13ad0w\n",
      "  Running command git clone -q https://github.com/Koziev/rupostagger /tmp/pip-req-build-9n13ad0w\n",
      "Building wheels for collected packages: rupostagger\n",
      "  Building wheel for rupostagger (setup.py) ... \u001B[?25l\u001B[?25hdone\n",
      "  Created wheel for rupostagger: filename=rupostagger-0.0.76-py3-none-any.whl size=1238232 sha256=16a6b6d945a485a2b4a4e004062ae6c831091ce3da4e412aaa1857dd8b228a52\n",
      "  Stored in directory: /tmp/pip-ephem-wheel-cache-m_93kacp/wheels/38/cb/85/5522960d1fbce872e8d253c2d571ac6360a98bc6bc8925d6ab\n",
      "Successfully built rupostagger\n",
      "Installing collected packages: rupostagger\n",
      "Successfully installed rupostagger-0.0.76\n",
      "Collecting git+https://github.com/Koziev/rusyllab\n",
      "  Cloning https://github.com/Koziev/rusyllab to /tmp/pip-req-build-na2j4f6n\n",
      "  Running command git clone -q https://github.com/Koziev/rusyllab /tmp/pip-req-build-na2j4f6n\n",
      "Building wheels for collected packages: rusyllab\n",
      "  Building wheel for rusyllab (setup.py) ... \u001B[?25l\u001B[?25hdone\n",
      "  Created wheel for rusyllab: filename=rusyllab-0.0.4-py3-none-any.whl size=16035 sha256=98fc10931c6b60e9b17340faf6fc416890d5ac707aee3ac76eb10a7dc7e2e632\n",
      "  Stored in directory: /tmp/pip-ephem-wheel-cache-bw_bxat4/wheels/3f/46/49/ced27fc6504451a7da2ff742e0427828c70af605e22236fc98\n",
      "Successfully built rusyllab\n",
      "Installing collected packages: rusyllab\n",
      "Successfully installed rusyllab-0.0.4\n",
      "Collecting git+https://github.com/Koziev/ruchunker\n",
      "  Cloning https://github.com/Koziev/ruchunker to /tmp/pip-req-build-w2s4efo_\n",
      "  Running command git clone -q https://github.com/Koziev/ruchunker /tmp/pip-req-build-w2s4efo_\n",
      "Building wheels for collected packages: ruchunker\n",
      "  Building wheel for ruchunker (setup.py) ... \u001B[?25l\u001B[?25hdone\n",
      "  Created wheel for ruchunker: filename=ruchunker-0.0.12-py3-none-any.whl size=994318 sha256=c7c67c001c7d34ef5382703871b77726580fe61b20a9a1b048a211d5f000dfb8\n",
      "  Stored in directory: /tmp/pip-ephem-wheel-cache-er2t_n54/wheels/b8/b6/ea/0e22fa531f510857a445025244dd2287beb2c8ded0be598a87\n",
      "Successfully built ruchunker\n",
      "Installing collected packages: ruchunker\n",
      "Successfully installed ruchunker-0.0.12\n"
     ],
     "name": "stdout"
    }
   ]
  },
  {
   "cell_type": "markdown",
   "metadata": {
    "id": "YNl7YAj63R4Y"
   },
   "source": [
    "# Устанавливаем чатбот из репозитория"
   ]
  },
  {
   "cell_type": "code",
   "metadata": {
    "colab": {
     "base_uri": "https://localhost:8080/"
    },
    "id": "BsfT0xx79syj",
    "outputId": "1538daaa-41ed-4847-99cc-90bfa299e7b8"
   },
   "source": [
    "# Клонируем исправленный репозиторий по библиотека и дополнениями из докера\n",
    "!git clone https://github.com/akumidv/chatbot.git /content/chatbot"
   ],
   "execution_count": 8,
   "outputs": [
    {
     "output_type": "stream",
     "text": [
      "Cloning into '/content/chatbot'...\n",
      "remote: Enumerating objects: 4261, done.\u001B[K\n",
      "remote: Counting objects: 100% (1447/1447), done.\u001B[K\n",
      "remote: Compressing objects: 100% (798/798), done.\u001B[K\n",
      "remote: Total 4261 (delta 1046), reused 997 (delta 640), pack-reused 2814\u001B[K\n",
      "Receiving objects: 100% (4261/4261), 1.73 GiB | 26.05 MiB/s, done.\n",
      "Resolving deltas: 100% (2875/2875), done.\n"
     ],
     "name": "stdout"
    }
   ]
  },
  {
   "cell_type": "code",
   "metadata": {
    "colab": {
     "base_uri": "https://localhost:8080/"
    },
    "id": "NWKTV17Y3heI",
    "outputId": "65be8782-1b05-4125-af2d-19ca84fe3c09"
   },
   "source": [
    "# Файлы в tmp из docker-а\n",
    "!unzip -o -d /content/chatbot/ $ADDITIONAL_FILES/tmp.zip"
   ],
   "execution_count": 9,
   "outputs": [
    {
     "output_type": "stream",
     "text": [
      "Archive:  /content/gdrive/MyDrive/chats_emotions_and_voises/Koziev-chatbot/addition_data/tmp.zip\n",
      "  inflating: /content/chatbot/tmp/.gitattributes  \n",
      "  inflating: /content/chatbot/tmp/2premises_question_relevancy_via_lgb.config  \n",
      "  inflating: /content/chatbot/tmp/2premises_question_relevancy_via_lgb.model  \n",
      "  inflating: /content/chatbot/tmp/2premises_question_relevancy_via_lgb.vectorizer  \n",
      "  inflating: /content/chatbot/tmp/abracadabra_classifier.model  \n",
      "  inflating: /content/chatbot/tmp/abusive_classifier.model  \n",
      "  inflating: /content/chatbot/tmp/answer_generator.config  \n",
      "  inflating: /content/chatbot/tmp/answer_generator_decoder.weights.data-00000-of-00001  \n",
      "  inflating: /content/chatbot/tmp/answer_generator_decoder.weights.index  \n",
      "  inflating: /content/chatbot/tmp/answer_generator_encoder.weights.data-00000-of-00001  \n",
      "  inflating: /content/chatbot/tmp/answer_generator_encoder.weights.index  \n",
      "  inflating: /content/chatbot/tmp/answer_generator_sentencepiece.model  \n",
      "  inflating: /content/chatbot/tmp/answer_generator_sentencepiece.vocab  \n",
      "  inflating: /content/chatbot/tmp/answer_templates.dat  \n",
      "  inflating: /content/chatbot/tmp/console_chatbot.log  \n",
      "  inflating: /content/chatbot/tmp/dataset_words.txt  \n",
      "  inflating: /content/chatbot/tmp/direction_classifier.model  \n",
      "  inflating: /content/chatbot/tmp/flask_service_bot.log  \n",
      "  inflating: /content/chatbot/tmp/generated_rules.yaml  \n",
      "  inflating: /content/chatbot/tmp/generative_paraphraser.dat  \n",
      "  inflating: /content/chatbot/tmp/intent_classifier.model  \n",
      "  inflating: /content/chatbot/tmp/interpreter_decoder.weights.data-00000-of-00001  \n",
      "  inflating: /content/chatbot/tmp/interpreter_decoder.weights.index  \n",
      "  inflating: /content/chatbot/tmp/interpreter_encoder.weights.data-00000-of-00001  \n",
      "  inflating: /content/chatbot/tmp/interpreter_encoder.weights.index  \n",
      "  inflating: /content/chatbot/tmp/interpreter_sentencepiece.model  \n",
      "  inflating: /content/chatbot/tmp/interpreter_sentencepiece.vocab  \n",
      "  inflating: /content/chatbot/tmp/interpreter_templates2.bin  \n",
      "  inflating: /content/chatbot/tmp/interpreter6.config  \n",
      "  inflating: /content/chatbot/tmp/known_words.txt  \n",
      "  inflating: /content/chatbot/tmp/lgb_relevancy.config  \n",
      "  inflating: /content/chatbot/tmp/lgb_relevancy.log  \n",
      "  inflating: /content/chatbot/tmp/lgb_relevancy.model  \n",
      "  inflating: /content/chatbot/tmp/lgb_req_interpretation.config  \n",
      "  inflating: /content/chatbot/tmp/lgb_req_interpretation.model  \n",
      "  inflating: /content/chatbot/tmp/lgb_req_interpretation.vectorizer  \n",
      "  inflating: /content/chatbot/tmp/lgb_synonymy.config  \n",
      "  inflating: /content/chatbot/tmp/lgb_synonymy.model  \n",
      "  inflating: /content/chatbot/tmp/names.pkl  \n",
      "  inflating: /content/chatbot/tmp/nn_answer_relevancy.arch  \n",
      "  inflating: /content/chatbot/tmp/nn_answer_relevancy.config  \n",
      "  inflating: /content/chatbot/tmp/nn_answer_relevancy.weights  \n",
      "  inflating: /content/chatbot/tmp/nn_enough_premises.arch  \n",
      "  inflating: /content/chatbot/tmp/nn_enough_premises.config  \n",
      "  inflating: /content/chatbot/tmp/nn_enough_premises.weights  \n",
      "  inflating: /content/chatbot/tmp/nn_enough_premises.weights.data-00000-of-00001  \n",
      "  inflating: /content/chatbot/tmp/nn_enough_premises.weights.index  \n",
      "  inflating: /content/chatbot/tmp/nn_enough_premises2.sentencepiece.model  \n",
      "  inflating: /content/chatbot/tmp/nn_enough_premises2.sentencepiece.vocab  \n",
      "  inflating: /content/chatbot/tmp/nn_syntax_validator.arch  \n",
      "  inflating: /content/chatbot/tmp/nn_syntax_validator.config  \n",
      "  inflating: /content/chatbot/tmp/nn_syntax_validator.log  \n",
      "  inflating: /content/chatbot/tmp/nn_syntax_validator.sentencepiece.model  \n",
      "  inflating: /content/chatbot/tmp/nn_syntax_validator.sentencepiece.vocab  \n",
      "  inflating: /content/chatbot/tmp/nn_syntax_validator.weights.data-00000-of-00001  \n",
      "  inflating: /content/chatbot/tmp/nn_syntax_validator.weights.index  \n",
      "  inflating: /content/chatbot/tmp/person_change_dictionary.pickle  \n",
      "  inflating: /content/chatbot/tmp/qa_model_selector.config  \n",
      "   creating: /content/chatbot/tmp/rugpt_checkpoints/\n",
      " extracting: /content/chatbot/tmp/rugpt_checkpoints/added_tokens.json  \n",
      "  inflating: /content/chatbot/tmp/rugpt_checkpoints/config.json  \n",
      "  inflating: /content/chatbot/tmp/rugpt_checkpoints/merges.txt  \n",
      "  inflating: /content/chatbot/tmp/rugpt_checkpoints/pytorch_model.bin  \n",
      "  inflating: /content/chatbot/tmp/rugpt_checkpoints/special_tokens_map.json  \n",
      "  inflating: /content/chatbot/tmp/rugpt_checkpoints/tokenizer_config.json  \n",
      "  inflating: /content/chatbot/tmp/rugpt_checkpoints/training_args.bin  \n",
      "  inflating: /content/chatbot/tmp/rugpt_checkpoints/vocab.json  \n",
      "   creating: /content/chatbot/tmp/rugpt_premise4question/\n",
      " extracting: /content/chatbot/tmp/rugpt_premise4question/added_tokens.json  \n",
      "  inflating: /content/chatbot/tmp/rugpt_premise4question/config.json  \n",
      "  inflating: /content/chatbot/tmp/rugpt_premise4question/merges.txt  \n",
      "  inflating: /content/chatbot/tmp/rugpt_premise4question/pytorch_model.bin  \n",
      "  inflating: /content/chatbot/tmp/rugpt_premise4question/special_tokens_map.json  \n",
      "  inflating: /content/chatbot/tmp/rugpt_premise4question/tokenizer_config.json  \n",
      "  inflating: /content/chatbot/tmp/rugpt_premise4question/training_args.bin  \n",
      "  inflating: /content/chatbot/tmp/rugpt_premise4question/vocab.json  \n",
      "  inflating: /content/chatbot/tmp/sentiment_classifier.model  \n",
      "  inflating: /content/chatbot/tmp/telegram_bot.log  \n",
      "  inflating: /content/chatbot/tmp/udpipe_syntagrus.model  \n",
      "  inflating: /content/chatbot/tmp/w2v.kv  \n",
      "  inflating: /content/chatbot/tmp/w2v.kv.vectors.npy  \n",
      "  inflating: /content/chatbot/tmp/wordchar2vector.arch  \n",
      "  inflating: /content/chatbot/tmp/wordchar2vector.arch.png  \n",
      "  inflating: /content/chatbot/tmp/wordchar2vector.config  \n",
      "  inflating: /content/chatbot/tmp/xgb_answer_generator.config  \n"
     ],
     "name": "stdout"
    }
   ]
  },
  {
   "cell_type": "code",
   "metadata": {
    "colab": {
     "base_uri": "https://localhost:8080/"
    },
    "id": "jsMQVdaPMt0E",
    "outputId": "ea19092c-2043-4550-d9b7-a7761e59810d"
   },
   "source": [
    "# Последние файлы модели\n",
    "!unzip -o -d /content/chatbot/tmp/ $DIALOPGT3_LAST_MODEL_ZIP\n",
    "!mv /content/chatbot/tmp/saved_model /content/chatbot/tmp/dialogptru_checkpoints"
   ],
   "execution_count": 10,
   "outputs": [
    {
     "output_type": "stream",
     "text": [
      "Archive:  /content/gdrive/MyDrive/chats_emotions_and_voises/psy_chatbot/models/saved_model70000.zip\n",
      "   creating: /content/chatbot/tmp/saved_model/\n",
      "  inflating: /content/chatbot/tmp/saved_model/config.json  \n",
      "  inflating: /content/chatbot/tmp/saved_model/tokenizer_config.json  \n",
      "  inflating: /content/chatbot/tmp/saved_model/tokenizer.json  \n",
      "  inflating: /content/chatbot/tmp/saved_model/special_tokens_map.json  \n",
      "  inflating: /content/chatbot/tmp/saved_model/merges.txt  \n",
      "  inflating: /content/chatbot/tmp/saved_model/pytorch_model.bin  \n",
      "  inflating: /content/chatbot/tmp/saved_model/training_args.bin  \n",
      "  inflating: /content/chatbot/tmp/saved_model/vocab.json  \n",
      " extracting: /content/chatbot/tmp/saved_model/added_tokens.json  \n"
     ],
     "name": "stdout"
    }
   ]
  },
  {
   "cell_type": "markdown",
   "metadata": {
    "id": "79OCddv53XD7"
   },
   "source": [
    "# Запускаем"
   ]
  },
  {
   "cell_type": "code",
   "metadata": {
    "colab": {
     "base_uri": "https://localhost:8080/"
    },
    "id": "eCBLGKb7_7pG",
    "outputId": "5ae495c5-6a69-4e58-b1bd-bc3f4f8d7d77"
   },
   "source": [
    "%cd /content/chatbot/scripts\n",
    "!export PYTHONPATH=/content/chatbot"
   ],
   "execution_count": 11,
   "outputs": [
    {
     "output_type": "stream",
     "text": [
      "/content/chatbot/scripts\n"
     ],
     "name": "stdout"
    }
   ]
  },
  {
   "cell_type": "code",
   "metadata": {
    "colab": {
     "base_uri": "https://localhost:8080/"
    },
    "id": "0T0O_jebQRjx",
    "outputId": "2949574b-3843-448e-eb14-f4db7233e365"
   },
   "source": [
    "# С выводом отладПривочной информации\n",
    "!bash ./console_bot_debug.sh"
   ],
   "execution_count": 12,
   "outputs": [
    {
     "output_type": "stream",
     "text": [
      "2021-07-28 08:48:56.176111: I tensorflow/stream_executor/platform/default/dso_loader.cc:53] Successfully opened dynamic library libcudart.so.11.0\n",
      "2021-07-28 08:49:01 \u001B[1;30mINFO    \u001B[0m \u001B[34mroot\u001B[0m  - No chit-chat service!\n",
      "2021-07-28 08:49:01 \u001B[1;30mDEBUG   \u001B[0m \u001B[34mroot\u001B[0m  - Bot loading...\n",
      "2021-07-28 08:49:01 \u001B[1;30mINFO    \u001B[0m \u001B[34mWordEmbeddings\u001B[0m  - Loading word2vector from \"../tmp/w2v.kv\"\n",
      "2021-07-28 08:49:01 \u001B[1;30mINFO    \u001B[0m \u001B[34mgensim.utils\u001B[0m  - loading Word2VecKeyedVectors object from ../tmp/w2v.kv\n",
      "2021-07-28 08:49:01 \u001B[1;30mDEBUG   \u001B[0m \u001B[34msmart_open.smart_open_lib\u001B[0m  - {'uri': '../tmp/w2v.kv', 'mode': 'rb', 'buffering': -1, 'encoding': None, 'errors': None, 'newline': None, 'closefd': True, 'opener': None, 'ignore_ext': False, 'compression': None, 'transport_params': None}\n",
      "2021-07-28 08:49:02 \u001B[1;30mINFO    \u001B[0m \u001B[34mgensim.utils\u001B[0m  - loading vectors from ../tmp/w2v.kv.vectors.npy with mmap=r\n",
      "2021-07-28 08:49:02 \u001B[1;30mINFO    \u001B[0m \u001B[34mgensim.utils\u001B[0m  - setting ignored attribute vectors_norm to None\n",
      "2021-07-28 08:49:02 \u001B[1;30mINFO    \u001B[0m \u001B[34mgensim.utils\u001B[0m  - loaded ../tmp/w2v.kv\n",
      "2021-07-28 08:49:24 \u001B[1;30mDEBUG   \u001B[0m \u001B[34mroot\u001B[0m  - Loading rules from \"../data/profile_rules_1.yaml\"...\n",
      "2021-07-28 08:49:24 \u001B[1;30mDEBUG   \u001B[0m \u001B[34mroot\u001B[0m  - Loading rules from \"../data/shared_rules.yaml\"...\n",
      "2021-07-28 08:49:28 \u001B[1;30mDEBUG   \u001B[0m \u001B[34mroot\u001B[0m  - Loading rules from \"../data/shared_scenarios.yaml\"...\n",
      "2021-07-28 08:49:28 \u001B[1;30mINFO    \u001B[0m \u001B[34mSimpleAnsweringMachine\u001B[0m  - Loading models from \"../tmp\"\n",
      "#rugpt_chitchat.py -> init\n",
      "#rugpt_chitchat.py -> load: ../tmp/dialogptru_checkpoints\n",
      "2021-07-28 08:49:42 \u001B[1;30mINFO    \u001B[0m \u001B[34mroot\u001B[0m  - Loading NoInformationModel replicas and rules from \"../data/profile_rules_1.yaml\"\n",
      "2021-07-28 08:49:42 \u001B[1;30mINFO    \u001B[0m \u001B[34mroot\u001B[0m  - Loading NoInformationModel replicas and rules from \"../data/shared_rules.yaml\"\n",
      "2021-07-28 08:49:45 \u001B[1;30mINFO    \u001B[0m \u001B[34mroot\u001B[0m  - Loading NoInformationModel replicas and rules from \"../data/shared_scenarios.yaml\"\n",
      "2021-07-28 08:49:45 \u001B[1;30mINFO    \u001B[0m \u001B[34mroot\u001B[0m  - NoInformationModel loaded: 34 phrase(s), 280 rule(s)\n",
      "2021-07-28 08:49:45 \u001B[1;30mINFO    \u001B[0m \u001B[34mLGB_RelevancyDetector\u001B[0m  - Loading LGB_RelevancyDetector model files\n",
      "2021-07-28 08:49:45 \u001B[1;30mINFO    \u001B[0m \u001B[34mLGB_RelevancyDetector\u001B[0m  - Loading LightGBM model from ../tmp/lgb_relevancy.model\n",
      "2021-07-28 08:49:46 \u001B[1;30mINFO    \u001B[0m \u001B[34mLGB_SynonymyDetector\u001B[0m  - Loading LGB_SynonymyDetector model files\n",
      "2021-07-28 08:49:46 \u001B[1;30mINFO    \u001B[0m \u001B[34mLGB_SynonymyDetector\u001B[0m  - Loading LightGBM model from ../tmp/lgb_synonymy.model\n",
      "2021-07-28 08:49:47 \u001B[1;30mINFO    \u001B[0m \u001B[34mNN_InterpreterNew6\u001B[0m  - Loading NN_InterpreterNew6 model files from \"../tmp\"...\n",
      "2021-07-28 08:49:47.547431: I tensorflow/stream_executor/platform/default/dso_loader.cc:53] Successfully opened dynamic library libcuda.so.1\n",
      "2021-07-28 08:49:47.556745: I tensorflow/stream_executor/cuda/cuda_gpu_executor.cc:937] successful NUMA node read from SysFS had negative value (-1), but there must be at least one NUMA node, so returning NUMA node zero\n",
      "2021-07-28 08:49:47.557487: I tensorflow/core/common_runtime/gpu/gpu_device.cc:1733] Found device 0 with properties: \n",
      "pciBusID: 0000:00:04.0 name: Tesla P100-PCIE-16GB computeCapability: 6.0\n",
      "coreClock: 1.3285GHz coreCount: 56 deviceMemorySize: 15.90GiB deviceMemoryBandwidth: 681.88GiB/s\n",
      "2021-07-28 08:49:47.557550: I tensorflow/stream_executor/platform/default/dso_loader.cc:53] Successfully opened dynamic library libcudart.so.11.0\n",
      "2021-07-28 08:49:47.678160: I tensorflow/stream_executor/platform/default/dso_loader.cc:53] Successfully opened dynamic library libcublas.so.11\n",
      "2021-07-28 08:49:47.678285: I tensorflow/stream_executor/platform/default/dso_loader.cc:53] Successfully opened dynamic library libcublasLt.so.11\n",
      "2021-07-28 08:49:47.802736: I tensorflow/stream_executor/platform/default/dso_loader.cc:53] Successfully opened dynamic library libcufft.so.10\n",
      "2021-07-28 08:49:47.821312: I tensorflow/stream_executor/platform/default/dso_loader.cc:53] Successfully opened dynamic library libcurand.so.10\n",
      "2021-07-28 08:49:47.974447: I tensorflow/stream_executor/platform/default/dso_loader.cc:53] Successfully opened dynamic library libcusolver.so.10\n",
      "2021-07-28 08:49:47.989929: I tensorflow/stream_executor/platform/default/dso_loader.cc:53] Successfully opened dynamic library libcusparse.so.11\n",
      "2021-07-28 08:49:47.995678: I tensorflow/stream_executor/platform/default/dso_loader.cc:53] Successfully opened dynamic library libcudnn.so.8\n",
      "2021-07-28 08:49:47.995901: I tensorflow/stream_executor/cuda/cuda_gpu_executor.cc:937] successful NUMA node read from SysFS had negative value (-1), but there must be at least one NUMA node, so returning NUMA node zero\n",
      "2021-07-28 08:49:47.997016: I tensorflow/stream_executor/cuda/cuda_gpu_executor.cc:937] successful NUMA node read from SysFS had negative value (-1), but there must be at least one NUMA node, so returning NUMA node zero\n",
      "2021-07-28 08:49:48.000870: I tensorflow/core/common_runtime/gpu/gpu_device.cc:1871] Adding visible gpu devices: 0\n",
      "2021-07-28 08:49:48.004655: I tensorflow/stream_executor/cuda/cuda_gpu_executor.cc:937] successful NUMA node read from SysFS had negative value (-1), but there must be at least one NUMA node, so returning NUMA node zero\n",
      "2021-07-28 08:49:48.005356: I tensorflow/core/common_runtime/gpu/gpu_device.cc:1733] Found device 0 with properties: \n",
      "pciBusID: 0000:00:04.0 name: Tesla P100-PCIE-16GB computeCapability: 6.0\n",
      "coreClock: 1.3285GHz coreCount: 56 deviceMemorySize: 15.90GiB deviceMemoryBandwidth: 681.88GiB/s\n",
      "2021-07-28 08:49:48.005493: I tensorflow/stream_executor/cuda/cuda_gpu_executor.cc:937] successful NUMA node read from SysFS had negative value (-1), but there must be at least one NUMA node, so returning NUMA node zero\n",
      "2021-07-28 08:49:48.006170: I tensorflow/stream_executor/cuda/cuda_gpu_executor.cc:937] successful NUMA node read from SysFS had negative value (-1), but there must be at least one NUMA node, so returning NUMA node zero\n",
      "2021-07-28 08:49:48.006816: I tensorflow/core/common_runtime/gpu/gpu_device.cc:1871] Adding visible gpu devices: 0\n",
      "2021-07-28 08:49:48.009464: I tensorflow/stream_executor/platform/default/dso_loader.cc:53] Successfully opened dynamic library libcudart.so.11.0\n",
      "2021-07-28 08:49:50.794255: I tensorflow/core/common_runtime/gpu/gpu_device.cc:1258] Device interconnect StreamExecutor with strength 1 edge matrix:\n",
      "2021-07-28 08:49:50.794303: I tensorflow/core/common_runtime/gpu/gpu_device.cc:1264]      0 \n",
      "2021-07-28 08:49:50.794318: I tensorflow/core/common_runtime/gpu/gpu_device.cc:1277] 0:   N \n",
      "2021-07-28 08:49:50.794542: I tensorflow/stream_executor/cuda/cuda_gpu_executor.cc:937] successful NUMA node read from SysFS had negative value (-1), but there must be at least one NUMA node, so returning NUMA node zero\n",
      "2021-07-28 08:49:50.795146: I tensorflow/stream_executor/cuda/cuda_gpu_executor.cc:937] successful NUMA node read from SysFS had negative value (-1), but there must be at least one NUMA node, so returning NUMA node zero\n",
      "2021-07-28 08:49:50.795744: I tensorflow/stream_executor/cuda/cuda_gpu_executor.cc:937] successful NUMA node read from SysFS had negative value (-1), but there must be at least one NUMA node, so returning NUMA node zero\n",
      "2021-07-28 08:49:50.796264: W tensorflow/core/common_runtime/gpu/gpu_bfc_allocator.cc:39] Overriding allow_growth setting because the TF_FORCE_GPU_ALLOW_GROWTH environment variable is set. Original config value was 0.\n",
      "2021-07-28 08:49:50.797823: I tensorflow/core/common_runtime/gpu/gpu_device.cc:1418] Created TensorFlow device (/job:localhost/replica:0/task:0/device:GPU:0 with 15433 MB memory) -> physical GPU (device: 0, name: Tesla P100-PCIE-16GB, pci bus id: 0000:00:04.0, compute capability: 6.0)\n",
      "DEBUG:tensorflow:Layer gru will use cuDNN kernels when running on GPU.\n",
      "2021-07-28 08:49:50 \u001B[1;30mDEBUG   \u001B[0m \u001B[34mtensorflow\u001B[0m  - Layer gru will use cuDNN kernels when running on GPU.\n",
      "DEBUG:tensorflow:Layer gru_1 will use cuDNN kernels when running on GPU.\n",
      "2021-07-28 08:49:50 \u001B[1;30mDEBUG   \u001B[0m \u001B[34mtensorflow\u001B[0m  - Layer gru_1 will use cuDNN kernels when running on GPU.\n",
      "2021-07-28 08:49:50 \u001B[1;30mINFO    \u001B[0m \u001B[34mNN_InterpreterNew6\u001B[0m  - Loading BaseUtteranceInterpreter2 model files\n",
      "2021-07-28 08:49:50 \u001B[1;30mINFO    \u001B[0m \u001B[34mLGB_ReqInterpretation\u001B[0m  - Loading LGB_ReqInterpretation model files\n",
      "2021-07-28 08:49:51 \u001B[1;30mINFO    \u001B[0m \u001B[34mP2Q_Relevancy_LGB\u001B[0m  - Loading P2Q_Relevancy_LGB model files\n",
      "2021-07-28 08:49:51 \u001B[1;30mINFO    \u001B[0m \u001B[34mNN_EnoughPremisesModel\u001B[0m  - Loading NN_EnoughPremisesModel model files\n",
      "2021-07-28 08:49:51 \u001B[1;30mDEBUG   \u001B[0m \u001B[34mNN_EnoughPremisesModel\u001B[0m  - NN_EnoughPremisesModel.bpe_model loaded with status=1\n",
      "DEBUG:tensorflow:Layer lstm will use cuDNN kernels when running on GPU.\n",
      "2021-07-28 08:49:51 \u001B[1;30mDEBUG   \u001B[0m \u001B[34mtensorflow\u001B[0m  - Layer lstm will use cuDNN kernels when running on GPU.\n",
      "DEBUG:tensorflow:Layer lstm will use cuDNN kernels when running on GPU.\n",
      "2021-07-28 08:49:51 \u001B[1;30mDEBUG   \u001B[0m \u001B[34mtensorflow\u001B[0m  - Layer lstm will use cuDNN kernels when running on GPU.\n",
      "DEBUG:tensorflow:Layer lstm will use cuDNN kernels when running on GPU.\n",
      "2021-07-28 08:49:51 \u001B[1;30mDEBUG   \u001B[0m \u001B[34mtensorflow\u001B[0m  - Layer lstm will use cuDNN kernels when running on GPU.\n",
      "2021-07-28 08:49:55 \u001B[1;30mINFO    \u001B[0m \u001B[34mAnswerBuilder\u001B[0m  - Loading AnswerBuilder model files from \"../tmp\"\n",
      "DEBUG:tensorflow:Layer gru_2 will use cuDNN kernels when running on GPU.\n",
      "2021-07-28 08:49:56 \u001B[1;30mDEBUG   \u001B[0m \u001B[34mtensorflow\u001B[0m  - Layer gru_2 will use cuDNN kernels when running on GPU.\n",
      "DEBUG:tensorflow:Layer gru_3 will use cuDNN kernels when running on GPU.\n",
      "2021-07-28 08:49:56 \u001B[1;30mDEBUG   \u001B[0m \u001B[34mtensorflow\u001B[0m  - Layer gru_3 will use cuDNN kernels when running on GPU.\n",
      "2021-07-28 08:49:57 \u001B[1;30mINFO    \u001B[0m \u001B[34mNN_SyntaxValidator\u001B[0m  - Loading NN_SyntaxValidator model files\n",
      "2021-07-28 08:49:57 \u001B[1;30mDEBUG   \u001B[0m \u001B[34mNN_SyntaxValidator\u001B[0m  - NN_SyntaxValidator::bpe_model loaded with status=1\n",
      "2021-07-28 08:49:58 \u001B[1;30mDEBUG   \u001B[0m \u001B[34mSimpleAnsweringMachine\u001B[0m  - All models loaded\n",
      "2021-07-28 08:49:58 \u001B[1;30mDEBUG   \u001B[0m \u001B[34mSimpleAnsweringMachine\u001B[0m  - Bot test_bot starts conversation with interlocutor anonymous\n",
      "2021-07-28 08:49:58 \u001B[1;30mINFO    \u001B[0m \u001B[34mroot\u001B[0m  - BotScripting::start_conversation\n",
      "2021-07-28 08:49:58 \u001B[1;30mINFO    \u001B[0m \u001B[34mSimpleAnsweringMachine\u001B[0m  - bot test_bot says \"Привет\" to interlocutor anonymous\n",
      "\u001B[94mAnswering machine is running on Linux-5.4.104+-x86_64-with-Ubuntu-18.04-bionic py=3.7\u001B[39m\n",
      "\n",
      "\n",
      "B:> \u001B[32mПривет\u001B[39m\n",
      "H:> Привет\n",
      "2021-07-28 08:59:16 \u001B[1;30mINFO    \u001B[0m \u001B[34mSimpleAnsweringMachine\u001B[0m  - push_phrase \"Привет\" to bot \"test_bot\" from interlocutor \"anonymous\"\n",
      "2021-07-28 08:59:16 \u001B[1;30mDEBUG   \u001B[0m \u001B[34mSimpleAnsweringMachine\u001B[0m  - ========== SESSION bot=test_bot interlocutor=anonymous ==========\n",
      "2021-07-28 08:59:16 \u001B[1;30mDEBUG   \u001B[0m \u001B[34mSimpleAnsweringMachine\u001B[0m  -  0| B: - Привет\n",
      "2021-07-28 08:59:16 \u001B[1;30mDEBUG   \u001B[0m \u001B[34mSimpleAnsweringMachine\u001B[0m  - ========== END OF SESSION ==========\n",
      "2021-07-28 08:59:16 \u001B[1;30mDEBUG   \u001B[0m \u001B[34mSimpleAnsweringMachine\u001B[0m  - raw_phrase=\"Привет\" expanded_phrase=\"Привет\" intents=\"приветствие\"\n",
      "2021-07-28 08:59:16 \u001B[1;30mDEBUG   \u001B[0m \u001B[34mroot\u001B[0m  - ScriptingRuleIf \"реакция на ключевые слова приветствия\"\n",
      "2021-07-28 08:59:16 \u001B[1;30mDEBUG   \u001B[0m \u001B[34mSimpleAnsweringMachine\u001B[0m  - bot test_bot starts scenario \"начало_знакомства\" for interlocutor anonymous\n",
      "2021-07-28 08:59:16 \u001B[1;30mDEBUG   \u001B[0m \u001B[34mSimpleAnsweringMachine\u001B[0m  - Scenario stack depth now is 1:[ 0:начало_знакомства@-1 ]  bot=test_bot interlocutor=anonymous\n",
      "2021-07-28 08:59:16 \u001B[1;30mDEBUG   \u001B[0m \u001B[34mroot\u001B[0m  - Executing step #0 in scenario \"начало_знакомства\"\n",
      "2021-07-28 08:59:16 \u001B[1;30mINFO    \u001B[0m \u001B[34mSimpleAnsweringMachine\u001B[0m  - bot test_bot says \"как тебя зовут, если не секрет?\" to interlocutor anonymous\n",
      "2021-07-28 08:59:16 \u001B[1;30mDEBUG   \u001B[0m \u001B[34mSimpleAnsweringMachine\u001B[0m  - First reply of interlocutor \"anonymous\" in bot \"test_bot\" is handled by a first_reply_rule\n",
      "\n",
      "\n",
      "B:> \u001B[32mкак тебя зовут, если не секрет?\u001B[39m\n",
      "H:> Вася\n",
      "2021-07-28 08:59:21 \u001B[1;30mINFO    \u001B[0m \u001B[34mSimpleAnsweringMachine\u001B[0m  - push_phrase \"Вася\" to bot \"test_bot\" from interlocutor \"anonymous\"\n",
      "2021-07-28 08:59:21 \u001B[1;30mDEBUG   \u001B[0m \u001B[34mSimpleAnsweringMachine\u001B[0m  - ========== SESSION bot=test_bot interlocutor=anonymous ==========\n",
      "2021-07-28 08:59:21 \u001B[1;30mDEBUG   \u001B[0m \u001B[34mSimpleAnsweringMachine\u001B[0m  -  0| B: - Привет\n",
      "2021-07-28 08:59:21 \u001B[1;30mDEBUG   \u001B[0m \u001B[34mSimpleAnsweringMachine\u001B[0m  -  1| H: - Привет\n",
      "2021-07-28 08:59:21 \u001B[1;30mDEBUG   \u001B[0m \u001B[34mSimpleAnsweringMachine\u001B[0m  -  2| B: - как тебя зовут, если не секрет?\n",
      "2021-07-28 08:59:21 \u001B[1;30mDEBUG   \u001B[0m \u001B[34mSimpleAnsweringMachine\u001B[0m  - ========== END OF SESSION ==========\n",
      "2021-07-28 08:59:21 \u001B[1;30mDEBUG   \u001B[0m \u001B[34mSimpleAnsweringMachine\u001B[0m  - stack=0:начало_знакомства@0\n",
      "2021-07-28 08:59:21.539254: I tensorflow/stream_executor/platform/default/dso_loader.cc:53] Successfully opened dynamic library libcudnn.so.8\n",
      "2021-07-28 08:59:22.613310: I tensorflow/stream_executor/cuda/cuda_dnn.cc:359] Loaded cuDNN version 8004\n",
      "2021-07-28 08:59:22.952927: I tensorflow/stream_executor/platform/default/dso_loader.cc:53] Successfully opened dynamic library libcublas.so.11\n",
      "2021-07-28 08:59:24.200797: I tensorflow/stream_executor/platform/default/dso_loader.cc:53] Successfully opened dynamic library libcublasLt.so.11\n",
      "2021-07-28 08:59:24.525710: W tensorflow/core/framework/cpu_allocator_impl.cc:80] Allocation of 53248000 exceeds 10% of free system memory.\n",
      "2021-07-28 08:59:25 \u001B[1;30mDEBUG   \u001B[0m \u001B[34mNN_InterpreterNew6\u001B[0m  - NN_InterpreterNew6 seq2seq context=\"как тебя зовут , если не секрет ? | вася\" output=\"меня зовут вася\"\n",
      "2021-07-28 08:59:25.470742: I tensorflow/compiler/mlir/mlir_graph_optimization_pass.cc:176] None of the MLIR Optimization Passes are enabled (registered 2)\n",
      "2021-07-28 08:59:25.477541: I tensorflow/core/platform/profile_utils/cpu_utils.cc:114] CPU Frequency: 2299995000 Hz\n",
      "2021-07-28 08:59:44 \u001B[1;30mDEBUG   \u001B[0m \u001B[34mSimpleAnsweringMachine\u001B[0m  - raw_phrase=\"Вася\" expanded_phrase=\"меня зовут вася\" intents=\"имя_собеседника,вопросы_к_собеседнику\"\n",
      "2021-07-28 08:59:44 \u001B[1;30mDEBUG   \u001B[0m \u001B[34mSimpleAnsweringMachine\u001B[0m  - Start processing clause 1/1 \"тебя зовут вася (raw=\"Вася\" intents=имя_собеседника,вопросы_к_собеседнику)\"  bot=test_bot interlocutor=anonymous\n",
      "2021-07-28 08:59:44 \u001B[1;30mDEBUG   \u001B[0m \u001B[34mSimpleAnsweringMachine\u001B[0m  - Gender identification of interlocutor anonymous: \"ты мужского пола\"  bot=test_bot\n",
      "2021-07-28 08:59:44 \u001B[1;30mDEBUG   \u001B[0m \u001B[34mSimpleAnsweringMachine\u001B[0m  - Processing as assertion: \"тебя зовут вася\" bot=test_bot interlocutor=anonymous session_stack=0:начало_знакомства@0\n",
      "2021-07-28 08:59:44 \u001B[1;30mINFO    \u001B[0m \u001B[34mProfileFactsReader\u001B[0m  - Loading profile facts from \"../data/profile_facts_1.dat\"\n",
      "2021-07-28 08:59:44 \u001B[1;30mDEBUG   \u001B[0m \u001B[34mProfileFactsReader\u001B[0m  - Loading facts from file \"../data/shared_facts.dat\"...\n",
      "2021-07-28 08:59:44 \u001B[1;30mDEBUG   \u001B[0m \u001B[34mProfileFactsReader\u001B[0m  - 1492 facts loaded from \"../data/profile_facts_1.dat\"\n",
      "2021-07-28 08:59:46.217647: W tensorflow/core/framework/cpu_allocator_impl.cc:80] Allocation of 40960000 exceeds 10% of free system memory.\n",
      "2021-07-28 08:59:46 \u001B[1;30mDEBUG   \u001B[0m \u001B[34mAnswerBuilder\u001B[0m  - AnswerBuilder seq2seq context=\"меня зовут вика . меня зовут вася ?\" output=\"нет\"\n",
      "2021-07-28 08:59:46 \u001B[1;30mDEBUG   \u001B[0m \u001B[34mSimpleAnsweringMachine\u001B[0m  - contradictory fact=\"меня зовут Вика\" for phrase=\"меня зовут вася\", resulting in style=\"opposite_for_me\". bot=test_bot interlocutor=anonymous\n",
      "2021-07-28 08:59:46 \u001B[1;30mINFO    \u001B[0m \u001B[34mSimpleAnsweringMachine\u001B[0m  - bot test_bot says \"а меня зовут Вика\" to interlocutor anonymous\n",
      "2021-07-28 08:59:46 \u001B[1;30mINFO    \u001B[0m \u001B[34mSimpleAnsweringMachine\u001B[0m  - Bot test_bot adds \"тебя зовут вася\" to knowledge base of interlocutor anonymous\n",
      "2021-07-28 08:59:46 \u001B[1;30mDEBUG   \u001B[0m \u001B[34mroot\u001B[0m  - Text matched in rule: input_text=\"а меня зовут вика\", best_etalon=\"меня зовут вика\", best_sim=0.979814\n",
      "2021-07-28 08:59:52 \u001B[1;30mDEBUG   \u001B[0m \u001B[34mSimpleAnsweringMachine\u001B[0m  - generate_smalltalk_replica::1 rule=\"smalltalk_rule_condition=\"тебя зовут np1\"\" input=\"тебя зовут вася (raw=\"Вася\" intents=имя_собеседника,вопросы_к_собеседнику)\" output=\"('я рада знакомству, вася', 0.019354838085327803, 'assertion(2)')\"\n",
      "2021-07-28 08:59:52 \u001B[1;30mDEBUG   \u001B[0m \u001B[34mSimpleAnsweringMachine\u001B[0m  - generate_smalltalk_replica::1 rule=\"smalltalk_rule_condition=\"тебя зовут np1\"\" input=\"тебя зовут вася (raw=\"Вася\" intents=имя_собеседника,вопросы_к_собеседнику)\" output=\"('вася, я рада познакомиться', 0.011428571102040827, 'assertion(2)')\"\n",
      "2021-07-28 08:59:52 \u001B[1;30mDEBUG   \u001B[0m \u001B[34mSimpleAnsweringMachine\u001B[0m  - generate_smalltalk_replica::1 rule=\"smalltalk_rule_condition=\"тебя зовут np1\"\" input=\"тебя зовут вася (raw=\"Вася\" intents=имя_собеседника,вопросы_к_собеседнику)\" output=\"('я очень рада познакомиться, вася', 0.01499999962500001, 'assertion(2)')\"\n",
      "2021-07-28 08:59:52 \u001B[1;30mDEBUG   \u001B[0m \u001B[34mSimpleAnsweringMachine\u001B[0m  - generate_smalltalk_replica::1 rule=\"smalltalk_rule_condition=\"тебя зовут np1\"\" input=\"тебя зовут вася (raw=\"Вася\" intents=имя_собеседника,вопросы_к_собеседнику)\" output=\"('Приятно познакомиться, вася !', 0.029549548666829017, 'assertion(2)')\"\n",
      "2021-07-28 08:59:52 \u001B[1;30mDEBUG   \u001B[0m \u001B[34mSimpleAnsweringMachine\u001B[0m  - generate_smalltalk_replica::1 rule=\"smalltalk_rule_condition=\"тебя зовут np1\"\" input=\"тебя зовут вася (raw=\"Вася\" intents=имя_собеседника,вопросы_к_собеседнику)\" output=\"('Приятно познакомиться, вася :)))', 0.027121211378902686, 'assertion(2)')\"\n",
      "2021-07-28 08:59:52 \u001B[1;30mDEBUG   \u001B[0m \u001B[34mSimpleAnsweringMachine\u001B[0m  - generate_smalltalk_replica::1 rule=\"smalltalk_rule_condition=\"тебя зовут np1\"\" input=\"тебя зовут вася (raw=\"Вася\" intents=имя_собеседника,вопросы_к_собеседнику)\" output=\"('я очень рада знакомству, вася :) :)', 0.014285713945578241, 'assertion(2)')\"\n",
      "2021-07-28 08:59:52 \u001B[1;30mDEBUG   \u001B[0m \u001B[34mSimpleAnsweringMachine\u001B[0m  - generate_smalltalk_replica::1 rule=\"smalltalk_rule_condition=\"тебя зовут np1\"\" input=\"тебя зовут вася (raw=\"Вася\" intents=имя_собеседника,вопросы_к_собеседнику)\" output=\"('как твои дела, вася ?', 0.03402298749601448, 'assertion(2)')\"\n",
      "2021-07-28 08:59:52 \u001B[1;30mDEBUG   \u001B[0m \u001B[34mSimpleAnsweringMachine\u001B[0m  - generate_smalltalk_replica::1 rule=\"smalltalk_rule_condition=\"тебя зовут np1\"\" input=\"тебя зовут вася (raw=\"Вася\" intents=имя_собеседника,вопросы_к_собеседнику)\" output=\"('как поживаешь, вася ?', 0.029385306443854564, 'assertion(2)')\"\n",
      "2021-07-28 08:59:52 \u001B[1;30mDEBUG   \u001B[0m \u001B[34mSimpleAnsweringMachine\u001B[0m  - generate_smalltalk_replica::1 rule=\"smalltalk_rule_condition=\"тебя зовут np1\"\" input=\"тебя зовут вася (raw=\"Вася\" intents=имя_собеседника,вопросы_к_собеседнику)\" output=\"('как ты поживаешь, вася ?', 0.031249999153645857, 'assertion(2)')\"\n",
      "2021-07-28 08:59:52 \u001B[1;30mDEBUG   \u001B[0m \u001B[34mSimpleAnsweringMachine\u001B[0m  - generate_smalltalk_replica::1 rule=\"smalltalk_rule_condition=\"тебя зовут np1\"\" input=\"тебя зовут вася (raw=\"Вася\" intents=имя_собеседника,вопросы_к_собеседнику)\" output=\"('как жизнь, вася ?', 0.033523808337052194, 'assertion(2)')\"\n",
      "2021-07-28 08:59:52 \u001B[1;30mDEBUG   \u001B[0m \u001B[34mSimpleAnsweringMachine\u001B[0m  - generate_smalltalk_replica::1 rule=\"smalltalk_rule_condition=\"тебя зовут np1\"\" input=\"тебя зовут вася (raw=\"Вася\" intents=имя_собеседника,вопросы_к_собеседнику)\" output=\"('как у тебя дела, вася ?', 0.07012986797942325, 'assertion(2)')\"\n",
      "2021-07-28 08:59:57 \u001B[1;30mDEBUG   \u001B[0m \u001B[34mSimpleAnsweringMachine\u001B[0m  - generate_smalltalk_replica::3 rule=\"smalltalk_rule_condition=\"тебя зовут np1\"\" input=\"тебя зовут вася\" output=\"('я рада знакомству, вася', 0.019354838085327803, 'assertion(2)')\"\n",
      "2021-07-28 08:59:57 \u001B[1;30mDEBUG   \u001B[0m \u001B[34mSimpleAnsweringMachine\u001B[0m  - generate_smalltalk_replica::3 rule=\"smalltalk_rule_condition=\"тебя зовут np1\"\" input=\"тебя зовут вася\" output=\"('вася, я рада познакомиться', 0.011428571102040827, 'assertion(2)')\"\n",
      "2021-07-28 08:59:57 \u001B[1;30mDEBUG   \u001B[0m \u001B[34mSimpleAnsweringMachine\u001B[0m  - generate_smalltalk_replica::3 rule=\"smalltalk_rule_condition=\"тебя зовут np1\"\" input=\"тебя зовут вася\" output=\"('я очень рада познакомиться, вася', 0.01499999962500001, 'assertion(2)')\"\n",
      "2021-07-28 08:59:57 \u001B[1;30mDEBUG   \u001B[0m \u001B[34mSimpleAnsweringMachine\u001B[0m  - generate_smalltalk_replica::3 rule=\"smalltalk_rule_condition=\"тебя зовут np1\"\" input=\"тебя зовут вася\" output=\"('Приятно познакомиться, вася !', 0.029549548666829017, 'assertion(2)')\"\n",
      "2021-07-28 08:59:57 \u001B[1;30mDEBUG   \u001B[0m \u001B[34mSimpleAnsweringMachine\u001B[0m  - generate_smalltalk_replica::3 rule=\"smalltalk_rule_condition=\"тебя зовут np1\"\" input=\"тебя зовут вася\" output=\"('Приятно познакомиться, вася :)))', 0.027121211378902686, 'assertion(2)')\"\n",
      "2021-07-28 08:59:57 \u001B[1;30mDEBUG   \u001B[0m \u001B[34mSimpleAnsweringMachine\u001B[0m  - generate_smalltalk_replica::3 rule=\"smalltalk_rule_condition=\"тебя зовут np1\"\" input=\"тебя зовут вася\" output=\"('я очень рада знакомству, вася :) :)', 0.014285713945578241, 'assertion(2)')\"\n",
      "2021-07-28 08:59:57 \u001B[1;30mDEBUG   \u001B[0m \u001B[34mSimpleAnsweringMachine\u001B[0m  - generate_smalltalk_replica::3 rule=\"smalltalk_rule_condition=\"тебя зовут np1\"\" input=\"тебя зовут вася\" output=\"('как твои дела, вася ?', 0.03402298749601448, 'assertion(2)')\"\n",
      "2021-07-28 08:59:57 \u001B[1;30mDEBUG   \u001B[0m \u001B[34mSimpleAnsweringMachine\u001B[0m  - generate_smalltalk_replica::3 rule=\"smalltalk_rule_condition=\"тебя зовут np1\"\" input=\"тебя зовут вася\" output=\"('как поживаешь, вася ?', 0.029385306443854564, 'assertion(2)')\"\n",
      "2021-07-28 08:59:57 \u001B[1;30mDEBUG   \u001B[0m \u001B[34mSimpleAnsweringMachine\u001B[0m  - generate_smalltalk_replica::3 rule=\"smalltalk_rule_condition=\"тебя зовут np1\"\" input=\"тебя зовут вася\" output=\"('как ты поживаешь, вася ?', 0.031249999153645857, 'assertion(2)')\"\n",
      "2021-07-28 08:59:57 \u001B[1;30mDEBUG   \u001B[0m \u001B[34mSimpleAnsweringMachine\u001B[0m  - generate_smalltalk_replica::3 rule=\"smalltalk_rule_condition=\"тебя зовут np1\"\" input=\"тебя зовут вася\" output=\"('как жизнь, вася ?', 0.033523808337052194, 'assertion(2)')\"\n",
      "2021-07-28 08:59:57 \u001B[1;30mDEBUG   \u001B[0m \u001B[34mSimpleAnsweringMachine\u001B[0m  - generate_smalltalk_replica::3 rule=\"smalltalk_rule_condition=\"тебя зовут np1\"\" input=\"тебя зовут вася\" output=\"('как у тебя дела, вася ?', 0.07012986797942325, 'assertion(2)')\"\n",
      "2021-07-28 08:59:57 \u001B[1;30mDEBUG   \u001B[0m \u001B[34mSimpleAnsweringMachine\u001B[0m  - Before calling query_chitchat_service from generate_smalltalk_replica with \"тебя зовут вася (raw=\"Вася\" intents=имя_собеседника,вопросы_к_собеседнику)\"  bot=test_bot interlocutor=anonymous\n",
      "2021-07-28 08:59:57 \u001B[1;30mDEBUG   \u001B[0m \u001B[34mRugptChitChat\u001B[0m  - Generating chit-chat response with context=меня зовут вася\n",
      "2021-07-28 09:00:18 \u001B[1;30mDEBUG   \u001B[0m \u001B[34mRugptChitChat\u001B[0m  - Chit-chat generated 17 responses: вась, а где ты живешь?; вася - это прозвище или прозвище?; ахаха; очень приятно; василий иванович; вася, я рада познакомиться; вась, ты не знаешь, сколько мне лет?; вася?; василиса, а меня артем. чем увлекаешься?; вася - это фамилия или отчество?; вася это имя твое?; а у тебя есть хобби?; ахахах; вася, ты где живешь?; вася - это имя, отчества?; вася, я рада знакомству; а меня артем\n",
      "2021-07-28 09:00:20 \u001B[1;30mDEBUG   \u001B[0m \u001B[34mSimpleAnsweringMachine\u001B[0m  - query_chitchat_service produced response with name text=\"вася - это прозвище или прозвище?\"\n",
      "2021-07-28 09:00:20 \u001B[1;30mERROR   \u001B[0m \u001B[34mSimpleAnsweringMachine\u001B[0m  - \u001B[31mlocal variable 'context' referenced before assignment\u001B[0m\n",
      "2021-07-28 09:00:20 \u001B[1;30mDEBUG   \u001B[0m \u001B[34mSimpleAnsweringMachine\u001B[0m  - Before calling query_dialogpt from generate_smalltalk_replica with \"тебя зовут вася (raw=\"Вася\" intents=имя_собеседника,вопросы_к_собеседнику)\"  bot=test_bot interlocutor=anonymous\n",
      "#simple_answering_machine.py -> query_dialogpt: тебя зовут вася (raw=\"Вася\" intents=имя_собеседника,вопросы_к_собеседнику) None False None\n",
      "#rugpt_chitchat.py -> generate_output: 20 меня зовут вася\n",
      "2021-07-28 09:00:20 \u001B[1;30mDEBUG   \u001B[0m \u001B[34mRugptChitChat\u001B[0m  - Generating chit-chat response with context=меня зовут вася\n",
      "# prompt_text |0|1|меня зовут вася|1|2|\n",
      "# len encoded_prompt 1\n",
      "Setting `pad_token_id` to `eos_token_id`:50257 for open-end generation.\n",
      "#rugpt_chitchat.py -> generate_output -> output_sequences: ['Луч', 'Я думаю, что он не хочет, чтобы я была ему верна. У него есть другая женщина, но она не знает,', 'Добрый день! Помогите разобраться в ситуации.  Я замужем, есть сын. Мы с мужем вместе почти 20 лет.  Мы любим друг', 'Психологи и психиатры, а также пользователи - не обязаны сообщать о своих чувствах, переживаниях и', ' Бы', 'Как вы думаете, если бы вы оказались на месте моей подруги, как бы она отреагировала на это?\\n\\n\\nЯ не знаю', 'В таком случае, если вы думаете, что я вас пытаюсь обидеть, то я вас не так поняла. У вас есть еще какие-то', 'Ситуация такая: я работаю в крупной компании, получаю хорошую зарплату, но зп постоянно сокращается. Как-то раз', 'Всем доброго времени суток!\\n\\n\\nДавайте по порядку.\\n\\nМы с мужем', 'Мы с мужем вместе почти 5 лет. Мы познакомились в 18 лет, у нас были отношения до брака. Сейчас', 'У меня ситуация такая. У меня есть парень, ему 31 год. Есть девушка. Мы с ней начали встречаться, когда мне было 17 лет. Я была', '2. Если я буду не очень довольна своей жизнью, я буду себя винить', 'Добрый вечер!\\n\\nМеня зовут Настя, мне 25 лет.\\n\\nМне 27 лет, я', '1', 'Не понимаю, как можно жить в таком состоянии. У меня сейчас нет детей, да и муж мне не нужен. У него есть', '', 'Здравствуйте. Мне 28 лет, я замужем. У меня есть дочь от первого брака. Отношения у нас были хорошие, но как только', 'Добрый день, уважаемые пользователи и специалисты. Меня зовут Настя, мне 28 лет. Я замужем. Муж работает в крупной компании, у него есть дочь', 'Добрый день!\\n\\nЯ была в похожей ситуации. Сначала я хотела разобраться с мужем, но он не', 'Вот как то так. Это что-то вроде \"я должен, я должен, и т.д.\". ']\n",
      "2021-07-28 09:00:34 \u001B[1;30mERROR   \u001B[0m \u001B[34mSimpleAnsweringMachine\u001B[0m  - \u001B[31m'list' object has no attribute 'shape'\u001B[0m\n",
      "2021-07-28 09:00:34 \u001B[1;30mDEBUG   \u001B[0m \u001B[34mroot\u001B[0m  - Executing step #1 in scenario \"начало_знакомства\"\n",
      "2021-07-28 09:00:34 \u001B[1;30mINFO    \u001B[0m \u001B[34mSimpleAnsweringMachine\u001B[0m  - bot test_bot says \"а лет тебе сколько?\" to interlocutor anonymous\n",
      "2021-07-28 09:00:34 \u001B[1;30mINFO    \u001B[0m \u001B[34mSimpleAnsweringMachine\u001B[0m  - bot test_bot says before B: \"Приятно познакомиться, вася !\" to interlocutor anonymous\n",
      "2021-07-28 09:00:34 \u001B[1;30mERROR   \u001B[0m \u001B[34mSimpleAnsweringMachine\u001B[0m  - \u001B[31mAssertion after the question is muted: last_phrase=\"а лет тебе сколько?\", new=\"Приятно познакомиться, вася !\"  bot=\"test_bot\" interlocutor=\"anonymous\"\u001B[0m\n",
      "\n",
      "\n",
      "B:> \u001B[32mа меня зовут Вика\u001B[39m\n",
      "B:> \u001B[32mа лет тебе сколько?\u001B[39m\n",
      "H:> 18\n",
      "2021-07-28 09:02:33 \u001B[1;30mINFO    \u001B[0m \u001B[34mSimpleAnsweringMachine\u001B[0m  - push_phrase \"18\" to bot \"test_bot\" from interlocutor \"anonymous\"\n",
      "2021-07-28 09:02:33 \u001B[1;30mDEBUG   \u001B[0m \u001B[34mSimpleAnsweringMachine\u001B[0m  - ========== SESSION bot=test_bot interlocutor=anonymous ==========\n",
      "2021-07-28 09:02:33 \u001B[1;30mDEBUG   \u001B[0m \u001B[34mSimpleAnsweringMachine\u001B[0m  -  0| B: - Привет\n",
      "2021-07-28 09:02:33 \u001B[1;30mDEBUG   \u001B[0m \u001B[34mSimpleAnsweringMachine\u001B[0m  -  1| H: - Привет\n",
      "2021-07-28 09:02:33 \u001B[1;30mDEBUG   \u001B[0m \u001B[34mSimpleAnsweringMachine\u001B[0m  -  2| B: - как тебя зовут, если не секрет?\n",
      "2021-07-28 09:02:33 \u001B[1;30mDEBUG   \u001B[0m \u001B[34mSimpleAnsweringMachine\u001B[0m  -  3| H: - Вася                                                          〚 тебя зовут вася 〛\n",
      "2021-07-28 09:02:33 \u001B[1;30mDEBUG   \u001B[0m \u001B[34mSimpleAnsweringMachine\u001B[0m  -  4| B: - а меня зовут Вика\n",
      "2021-07-28 09:02:33 \u001B[1;30mDEBUG   \u001B[0m \u001B[34mSimpleAnsweringMachine\u001B[0m  -  5| B: - а лет тебе сколько?\n",
      "2021-07-28 09:02:33 \u001B[1;30mDEBUG   \u001B[0m \u001B[34mSimpleAnsweringMachine\u001B[0m  - ========== END OF SESSION ==========\n",
      "2021-07-28 09:02:33 \u001B[1;30mDEBUG   \u001B[0m \u001B[34mSimpleAnsweringMachine\u001B[0m  - stack=0:начало_знакомства@1\n",
      "2021-07-28 09:02:33 \u001B[1;30mDEBUG   \u001B[0m \u001B[34mNN_InterpreterNew6\u001B[0m  - NN_InterpreterNew6 seq2seq context=\"а лет тебе сколько ? | 18\" output=\"мне 18 лет\"\n",
      "2021-07-28 09:02:33 \u001B[1;30mDEBUG   \u001B[0m \u001B[34mSimpleAnsweringMachine\u001B[0m  - raw_phrase=\"18\" expanded_phrase=\"мне 18 лет\" intents=\"собес_прочее_о_себе,вопросы_к_собеседнику\"\n",
      "2021-07-28 09:02:33 \u001B[1;30mDEBUG   \u001B[0m \u001B[34mSimpleAnsweringMachine\u001B[0m  - Start processing clause 1/1 \"тебе 18 лет (raw=\"18\" intents=собес_прочее_о_себе,вопросы_к_собеседнику)\"  bot=test_bot interlocutor=anonymous\n",
      "2021-07-28 09:02:33 \u001B[1;30mDEBUG   \u001B[0m \u001B[34mSimpleAnsweringMachine\u001B[0m  - Processing as assertion: \"тебе 18 лет\" bot=test_bot interlocutor=anonymous session_stack=0:начало_знакомства@1\n",
      "2021-07-28 09:02:33 \u001B[1;30mINFO    \u001B[0m \u001B[34mSimpleAnsweringMachine\u001B[0m  - Bot test_bot adds \"тебе 18 лет\" to knowledge base of interlocutor anonymous\n",
      "2021-07-28 09:02:34 \u001B[1;30mDEBUG   \u001B[0m \u001B[34mroot\u001B[0m  - Text matched in rule: input_text=\"тебе 18 лет\", best_etalon=\"тебе 18 лет\", best_sim=0.982699\n",
      "2021-07-28 09:02:34 \u001B[1;30mDEBUG   \u001B[0m \u001B[34mroot\u001B[0m  - ScriptingRuleIf \"собесу от 16 до 25 лет\"\n",
      "2021-07-28 09:02:34 \u001B[1;30mINFO    \u001B[0m \u001B[34mSimpleAnsweringMachine\u001B[0m  - bot test_bot says \"если не секрет, ты где-то работаешь?\" to interlocutor anonymous\n",
      "2021-07-28 09:02:34 \u001B[1;30mDEBUG   \u001B[0m \u001B[34mSimpleAnsweringMachine\u001B[0m  - Discourse retention by rule in scenario \"начало_знакомства\" bot=\"test_bot\" interlocutor=\"anonymous\"\n",
      "\n",
      "\n",
      "B:> \u001B[32mесли не секрет, ты где-то работаешь?\u001B[39m\n",
      "H:> стоп\n",
      "2021-07-28 09:03:09 \u001B[1;30mINFO    \u001B[0m \u001B[34mSimpleAnsweringMachine\u001B[0m  - push_phrase \"стоп\" to bot \"test_bot\" from interlocutor \"anonymous\"\n",
      "2021-07-28 09:03:09 \u001B[1;30mDEBUG   \u001B[0m \u001B[34mSimpleAnsweringMachine\u001B[0m  - ========== SESSION bot=test_bot interlocutor=anonymous ==========\n",
      "2021-07-28 09:03:09 \u001B[1;30mDEBUG   \u001B[0m \u001B[34mSimpleAnsweringMachine\u001B[0m  -  0| B: - Привет\n",
      "2021-07-28 09:03:09 \u001B[1;30mDEBUG   \u001B[0m \u001B[34mSimpleAnsweringMachine\u001B[0m  -  1| H: - Привет\n",
      "2021-07-28 09:03:09 \u001B[1;30mDEBUG   \u001B[0m \u001B[34mSimpleAnsweringMachine\u001B[0m  -  2| B: - как тебя зовут, если не секрет?\n",
      "2021-07-28 09:03:09 \u001B[1;30mDEBUG   \u001B[0m \u001B[34mSimpleAnsweringMachine\u001B[0m  -  3| H: - Вася                                                          〚 тебя зовут вася 〛\n",
      "2021-07-28 09:03:09 \u001B[1;30mDEBUG   \u001B[0m \u001B[34mSimpleAnsweringMachine\u001B[0m  -  4| B: - а меня зовут Вика\n",
      "2021-07-28 09:03:09 \u001B[1;30mDEBUG   \u001B[0m \u001B[34mSimpleAnsweringMachine\u001B[0m  -  5| B: - а лет тебе сколько?\n",
      "2021-07-28 09:03:09 \u001B[1;30mDEBUG   \u001B[0m \u001B[34mSimpleAnsweringMachine\u001B[0m  -  6| H: - 18                                                            〚 тебе 18 лет 〛\n",
      "2021-07-28 09:03:09 \u001B[1;30mDEBUG   \u001B[0m \u001B[34mSimpleAnsweringMachine\u001B[0m  -  7| B: - если не секрет, ты где-то работаешь?\n",
      "2021-07-28 09:03:09 \u001B[1;30mDEBUG   \u001B[0m \u001B[34mSimpleAnsweringMachine\u001B[0m  - ========== END OF SESSION ==========\n",
      "2021-07-28 09:03:09 \u001B[1;30mDEBUG   \u001B[0m \u001B[34mSimpleAnsweringMachine\u001B[0m  - stack=0:начало_знакомства@1\n",
      "2021-07-28 09:03:09 \u001B[1;30mDEBUG   \u001B[0m \u001B[34mNN_InterpreterNew6\u001B[0m  - NN_InterpreterNew6 seq2seq context=\"если не секрет , ты где-то работаешь ? | стоп\" output=\"я работаю\"\n",
      "2021-07-28 09:03:09 \u001B[1;30mDEBUG   \u001B[0m \u001B[34mSimpleAnsweringMachine\u001B[0m  - raw_phrase=\"стоп\" expanded_phrase=\"я работаю\" intents=\"собеседник_о_своем_занятии,вопросы_к_собеседнику\"\n",
      "2021-07-28 09:03:09 \u001B[1;30mDEBUG   \u001B[0m \u001B[34mSimpleAnsweringMachine\u001B[0m  - Start processing clause 1/1 \"ты работаешь (raw=\"стоп\" intents=собеседник_о_своем_занятии,вопросы_к_собеседнику)\"  bot=test_bot interlocutor=anonymous\n",
      "2021-07-28 09:03:09 \u001B[1;30mDEBUG   \u001B[0m \u001B[34mSimpleAnsweringMachine\u001B[0m  - Processing as assertion: \"ты работаешь\" bot=test_bot interlocutor=anonymous session_stack=0:начало_знакомства@1\n",
      "2021-07-28 09:03:09 \u001B[1;30mINFO    \u001B[0m \u001B[34mSimpleAnsweringMachine\u001B[0m  - Bot test_bot adds \"ты работаешь\" to knowledge base of interlocutor anonymous\n",
      "2021-07-28 09:03:10 \u001B[1;30mDEBUG   \u001B[0m \u001B[34mroot\u001B[0m  - Text matched in rule: input_text=\"ты работаешь\", best_etalon=\"ты работаешь\", best_sim=0.988179\n",
      "2021-07-28 09:03:10 \u001B[1;30mDEBUG   \u001B[0m \u001B[34mroot\u001B[0m  - ScriptingRuleIf \"запуск темы про работу\"\n",
      "2021-07-28 09:03:10 \u001B[1;30mDEBUG   \u001B[0m \u001B[34mSimpleAnsweringMachine\u001B[0m  - Call scenario \"про_работу\", scenario stack depth now is 2:[ 0:про_работу@-1 -1:начало_знакомства@1 ]  interlocutor=anonymous\n",
      "2021-07-28 09:03:10 \u001B[1;30mDEBUG   \u001B[0m \u001B[34mroot\u001B[0m  - Executing step #0 in scenario \"про_работу\"\n",
      "2021-07-28 09:03:10 \u001B[1;30mINFO    \u001B[0m \u001B[34mSimpleAnsweringMachine\u001B[0m  - bot test_bot says \"где ты работаешь?\" to interlocutor anonymous\n",
      "2021-07-28 09:03:10 \u001B[1;30mDEBUG   \u001B[0m \u001B[34mSimpleAnsweringMachine\u001B[0m  - Discourse retention by rule in scenario \"про_работу\" bot=\"test_bot\" interlocutor=\"anonymous\"\n",
      "\n",
      "\n",
      "B:> \u001B[32mгде ты работаешь?\u001B[39m\n",
      "H:> Traceback (most recent call last):\n",
      "  File \"../ruchatbot/frontend/console_chatbot.py\", line 126, in <module>\n",
      "    question = input_kbd('H:>')\n",
      "  File \"/content/chatbot/ruchatbot/bot/console_utils.py\", line 34, in input_kbd\n",
      "    s = sys.stdin.buffer.readline()\n",
      "KeyboardInterrupt\n",
      "WARNING:tensorflow:Unresolved object in checkpoint: (root).optimizer\n",
      "Exception ignored in: <function _CheckpointRestoreCoordinatorDeleter.__del__ at 0x7f6a83b7fef0>\n",
      "Traceback (most recent call last):\n",
      "  File \"/usr/local/lib/python3.7/dist-packages/tensorflow/python/training/tracking/util.py\", line 162, in __del__\n",
      "  File \"/usr/local/lib/python3.7/dist-packages/tensorflow/python/platform/tf_logging.py\", line 178, in warning\n",
      "  File \"/usr/lib/python3.7/logging/__init__.py\", line 1390, in warning\n",
      "  File \"/usr/lib/python3.7/logging/__init__.py\", line 1514, in _log\n",
      "  File \"/usr/lib/python3.7/logging/__init__.py\", line 1524, in handle\n",
      "  File \"/usr/lib/python3.7/logging/__init__.py\", line 1586, in callHandlers\n",
      "  File \"/usr/lib/python3.7/logging/__init__.py\", line 894, in handle\n",
      "  File \"/usr/lib/python3.7/logging/__init__.py\", line 1126, in emit\n",
      "  File \"/usr/lib/python3.7/logging/__init__.py\", line 1116, in _open\n",
      "NameError: name 'open' is not defined\n"
     ],
     "name": "stdout"
    }
   ]
  },
  {
   "cell_type": "code",
   "metadata": {
    "id": "1wdNp6uXQPji"
   },
   "source": [
    "# Вывод без debug\n",
    "!./console_bot.sh"
   ],
   "execution_count": null,
   "outputs": []
  }
 ]
}