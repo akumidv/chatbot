{
 "nbformat": 4,
 "nbformat_minor": 0,
 "metadata": {
  "colab": {
   "name": "koziev-chatbot.ipynb",
   "provenance": [],
   "collapsed_sections": [],
   "authorship_tag": "ABX9TyMaYVOX6GWjM/UQwYVjlRDy"
  },
  "kernelspec": {
   "name": "python3",
   "display_name": "Python 3"
  },
  "language_info": {
   "name": "python"
  }
 },
 "cells": [
  {
   "cell_type": "markdown",
   "metadata": {
    "id": "l6MZn57eq839"
   },
   "source": [
    "# Монтируем диск для доступа к дополнительным файлам"
   ]
  },
  {
   "cell_type": "code",
   "metadata": {
    "colab": {
     "base_uri": "https://localhost:8080/"
    },
    "id": "KSlHNV3DrCFv",
    "executionInfo": {
     "status": "ok",
     "timestamp": 1626937733462,
     "user_tz": -600,
     "elapsed": 39799,
     "user": {
      "displayName": "iondv Co",
      "photoUrl": "https://lh3.googleusercontent.com/a-/AOh14GiDKlZy__VZpc6lxMLi3NxuxxFA1ew71kz_QHEe=s64",
      "userId": "12811652262630697110"
     }
    },
    "outputId": "8609522f-e425-4e5e-c73e-dbfa81700819"
   },
   "source": [
    "# Обеспечиваем подгрузку данных и их хранение в каталоге ноутубка MyDrive/chats_emotions_and_voises/chat04_depression-therapist-chatbot\n",
    "import os\n",
    "from google.colab import drive\n",
    "ADDITIONAL_FILES='/content/gdrive/MyDrive/koziev-chatbot/addition_data'\n",
    "\n",
    "drive.mount('/content/gdrive')\n",
    "if not os.path.exists(ADDITIONAL_FILES):\n",
    "    raise ValueError('Нет папки для хранения данных', ADDITIONAL_FILES)\n",
    "%ls $ADDITIONAL_FILES"
   ],
   "execution_count": 1,
   "outputs": [
    {
     "output_type": "stream",
     "text": [
      "Mounted at /content/gdrive\n",
      "ruword2tags.db  tmp.zip\n"
     ],
     "name": "stdout"
    }
   ]
  },
  {
   "cell_type": "markdown",
   "metadata": {
    "id": "sA41iKkgq-Wm"
   },
   "source": [
    "# Установка окружения"
   ]
  },
  {
   "cell_type": "code",
   "metadata": {
    "colab": {
     "base_uri": "https://localhost:8080/"
    },
    "id": "Y777nhiw2vd_",
    "executionInfo": {
     "status": "ok",
     "timestamp": 1626937733463,
     "user_tz": -600,
     "elapsed": 14,
     "user": {
      "displayName": "iondv Co",
      "photoUrl": "https://lh3.googleusercontent.com/a-/AOh14GiDKlZy__VZpc6lxMLi3NxuxxFA1ew71kz_QHEe=s64",
      "userId": "12811652262630697110"
     }
    },
    "outputId": "efe2f6b5-f796-47e5-e812-7491f00001e8"
   },
   "source": [
    "!export LANG=C.UTF-8\n",
    "!export | grep \"LANG=\""
   ],
   "execution_count": 2,
   "outputs": [
    {
     "output_type": "stream",
     "text": [
      "declare -x LANG=\"en_US.UTF-8\"\n"
     ],
     "name": "stdout"
    }
   ]
  },
  {
   "cell_type": "code",
   "metadata": {
    "colab": {
     "base_uri": "https://localhost:8080/"
    },
    "id": "hCn_LD0W22JF",
    "executionInfo": {
     "status": "ok",
     "timestamp": 1626937743005,
     "user_tz": -600,
     "elapsed": 7758,
     "user": {
      "displayName": "iondv Co",
      "photoUrl": "https://lh3.googleusercontent.com/a-/AOh14GiDKlZy__VZpc6lxMLi3NxuxxFA1ew71kz_QHEe=s64",
      "userId": "12811652262630697110"
     }
    },
    "outputId": "f830a1d6-36b6-4eff-84ba-210ca2cc8f33"
   },
   "source": [
    "!apt-get update && apt-get install -y liblzma-dev python-numpy && apt-get clean"
   ],
   "execution_count": 3,
   "outputs": [
    {
     "output_type": "stream",
     "text": [
      "\r0% [Working]\r            \rHit:1 http://archive.ubuntu.com/ubuntu bionic InRelease\n",
      "\r0% [Waiting for headers] [Connecting to security.ubuntu.com (91.189.91.39)] [Co\r                                                                               \rGet:2 http://archive.ubuntu.com/ubuntu bionic-updates InRelease [88.7 kB]\n",
      "\r                                                                               \rGet:3 http://ppa.launchpad.net/c2d4u.team/c2d4u4.0+/ubuntu bionic InRelease [15.9 kB]\n",
      "\r0% [2 InRelease 63.4 kB/88.7 kB 71%] [Connecting to security.ubuntu.com (91.189\r                                                                               \rHit:4 http://ppa.launchpad.net/cran/libgit2/ubuntu bionic InRelease\n",
      "\r0% [1 InRelease gpgv 242 kB] [2 InRelease 67.8 kB/88.7 kB 76%] [Connecting to s\r0% [1 InRelease gpgv 242 kB] [Connecting to security.ubuntu.com (91.189.91.39)]\r                                                                               \rGet:5 https://cloud.r-project.org/bin/linux/ubuntu bionic-cran40/ InRelease [3,626 B]\n",
      "\r0% [1 InRelease gpgv 242 kB] [Waiting for headers] [Connecting to security.ubun\r                                                                               \rGet:6 http://archive.ubuntu.com/ubuntu bionic-backports InRelease [74.6 kB]\n",
      "\r0% [1 InRelease gpgv 242 kB] [6 InRelease 11.3 kB/74.6 kB 15%] [Connecting to s\r0% [1 InRelease gpgv 242 kB] [Connecting to security.ubuntu.com (91.189.91.39)]\r                                                                               \rHit:7 http://ppa.launchpad.net/deadsnakes/ppa/ubuntu bionic InRelease\n",
      "\r0% [1 InRelease gpgv 242 kB] [Connecting to security.ubuntu.com (91.189.91.39)]\r                                                                               \rGet:8 http://ppa.launchpad.net/graphics-drivers/ppa/ubuntu bionic InRelease [21.3 kB]\n",
      "\r0% [1 InRelease gpgv 242 kB] [Waiting for headers] [8 InRelease 2,572 B/21.3 kB\r                                                                               \r0% [1 InRelease gpgv 242 kB] [Waiting for headers] [Waiting for headers]\r                                                                        \rGet:9 http://security.ubuntu.com/ubuntu bionic-security InRelease [88.7 kB]\n",
      "Ign:10 https://developer.download.nvidia.com/compute/cuda/repos/ubuntu1804/x86_64  InRelease\n",
      "Ign:11 https://developer.download.nvidia.com/compute/machine-learning/repos/ubuntu1804/x86_64  InRelease\n",
      "Get:12 https://developer.download.nvidia.com/compute/cuda/repos/ubuntu1804/x86_64  Release [697 B]\n",
      "Hit:13 https://developer.download.nvidia.com/compute/machine-learning/repos/ubuntu1804/x86_64  Release\n",
      "Get:14 https://developer.download.nvidia.com/compute/cuda/repos/ubuntu1804/x86_64  Release.gpg [836 B]\n",
      "Get:15 http://ppa.launchpad.net/c2d4u.team/c2d4u4.0+/ubuntu bionic/main Sources [1,785 kB]\n",
      "Get:16 http://ppa.launchpad.net/c2d4u.team/c2d4u4.0+/ubuntu bionic/main amd64 Packages [913 kB]\n",
      "Get:17 http://archive.ubuntu.com/ubuntu bionic-updates/main amd64 Packages [2,693 kB]\n",
      "Get:18 http://archive.ubuntu.com/ubuntu bionic-updates/restricted amd64 Packages [533 kB]\n",
      "Get:19 http://archive.ubuntu.com/ubuntu bionic-updates/universe amd64 Packages [2,190 kB]\n",
      "Get:20 http://archive.ubuntu.com/ubuntu bionic-updates/multiverse amd64 Packages [38.7 kB]\n",
      "Get:21 http://ppa.launchpad.net/graphics-drivers/ppa/ubuntu bionic/main amd64 Packages [44.1 kB]\n",
      "Ign:23 https://developer.download.nvidia.com/compute/cuda/repos/ubuntu1804/x86_64  Packages\n",
      "Get:23 https://developer.download.nvidia.com/compute/cuda/repos/ubuntu1804/x86_64  Packages [679 kB]\n",
      "Get:24 http://security.ubuntu.com/ubuntu bionic-security/restricted amd64 Packages [500 kB]\n",
      "Get:25 http://security.ubuntu.com/ubuntu bionic-security/main amd64 Packages [2,257 kB]\n",
      "Get:26 http://security.ubuntu.com/ubuntu bionic-security/multiverse amd64 Packages [31.5 kB]\n",
      "Get:27 http://security.ubuntu.com/ubuntu bionic-security/universe amd64 Packages [1,420 kB]\n",
      "Fetched 13.4 MB in 4s (3,488 kB/s)\n",
      "Reading package lists... Done\n",
      "Reading package lists... Done\n",
      "Building dependency tree       \n",
      "Reading state information... Done\n",
      "liblzma-dev is already the newest version (5.2.2-1.3).\n",
      "liblzma-dev set to manually installed.\n",
      "python-numpy is already the newest version (1:1.13.3-2ubuntu1).\n",
      "python-numpy set to manually installed.\n",
      "0 upgraded, 0 newly installed, 0 to remove and 76 not upgraded.\n"
     ],
     "name": "stdout"
    }
   ]
  },
  {
   "cell_type": "code",
   "metadata": {
    "colab": {
     "base_uri": "https://localhost:8080/"
    },
    "id": "JoqnIF8Mrqzr",
    "executionInfo": {
     "status": "ok",
     "timestamp": 1626937852013,
     "user_tz": -600,
     "elapsed": 109011,
     "user": {
      "displayName": "iondv Co",
      "photoUrl": "https://lh3.googleusercontent.com/a-/AOh14GiDKlZy__VZpc6lxMLi3NxuxxFA1ew71kz_QHEe=s64",
      "userId": "12811652262630697110"
     }
    },
    "outputId": "0e97a4d6-e033-4b04-de96-3d9248f3647d"
   },
   "source": [
    "%pip install tensorflow --use-feature=2020-resolver\n",
    "%pip install sentencepiece lightgbm scikit-learn==0.24.0 gensim pathlib python-crfsuite colorama coloredlogs requests flask flask_sqlalchemy flask_wtf h5py pyconll ufal.udpipe pyyaml --use-feature=2020-resolver\n",
    "%pip install tensorflow-addons --use-feature=2020-resolver\n",
    "%pip install python-Levenshtein\n",
    "%pip install transformers\n",
    "%pip install torch"
   ],
   "execution_count": 4,
   "outputs": [
    {
     "output_type": "stream",
     "text": [
      "\u001B[33mWARNING: --use-feature=2020-resolver no longer has any effect, since it is now the default dependency resolver in pip. This will become an error in pip 21.0.\u001B[0m\n",
      "Requirement already satisfied: tensorflow in /usr/local/lib/python3.7/dist-packages (2.5.0)\n",
      "Requirement already satisfied: keras-preprocessing~=1.1.2 in /usr/local/lib/python3.7/dist-packages (from tensorflow) (1.1.2)\n",
      "Requirement already satisfied: wrapt~=1.12.1 in /usr/local/lib/python3.7/dist-packages (from tensorflow) (1.12.1)\n",
      "Requirement already satisfied: grpcio~=1.34.0 in /usr/local/lib/python3.7/dist-packages (from tensorflow) (1.34.1)\n",
      "Requirement already satisfied: wheel~=0.35 in /usr/local/lib/python3.7/dist-packages (from tensorflow) (0.36.2)\n",
      "Requirement already satisfied: numpy~=1.19.2 in /usr/local/lib/python3.7/dist-packages (from tensorflow) (1.19.5)\n",
      "Requirement already satisfied: tensorflow-estimator<2.6.0,>=2.5.0rc0 in /usr/local/lib/python3.7/dist-packages (from tensorflow) (2.5.0)\n",
      "Requirement already satisfied: absl-py~=0.10 in /usr/local/lib/python3.7/dist-packages (from tensorflow) (0.12.0)\n",
      "Requirement already satisfied: keras-nightly~=2.5.0.dev in /usr/local/lib/python3.7/dist-packages (from tensorflow) (2.5.0.dev2021032900)\n",
      "Requirement already satisfied: gast==0.4.0 in /usr/local/lib/python3.7/dist-packages (from tensorflow) (0.4.0)\n",
      "Requirement already satisfied: google-pasta~=0.2 in /usr/local/lib/python3.7/dist-packages (from tensorflow) (0.2.0)\n",
      "Requirement already satisfied: h5py~=3.1.0 in /usr/local/lib/python3.7/dist-packages (from tensorflow) (3.1.0)\n",
      "Requirement already satisfied: protobuf>=3.9.2 in /usr/local/lib/python3.7/dist-packages (from tensorflow) (3.17.3)\n",
      "Requirement already satisfied: astunparse~=1.6.3 in /usr/local/lib/python3.7/dist-packages (from tensorflow) (1.6.3)\n",
      "Requirement already satisfied: typing-extensions~=3.7.4 in /usr/local/lib/python3.7/dist-packages (from tensorflow) (3.7.4.3)\n",
      "Requirement already satisfied: six~=1.15.0 in /usr/local/lib/python3.7/dist-packages (from tensorflow) (1.15.0)\n",
      "Requirement already satisfied: tensorboard~=2.5 in /usr/local/lib/python3.7/dist-packages (from tensorflow) (2.5.0)\n",
      "Requirement already satisfied: flatbuffers~=1.12.0 in /usr/local/lib/python3.7/dist-packages (from tensorflow) (1.12)\n",
      "Requirement already satisfied: termcolor~=1.1.0 in /usr/local/lib/python3.7/dist-packages (from tensorflow) (1.1.0)\n",
      "Requirement already satisfied: opt-einsum~=3.3.0 in /usr/local/lib/python3.7/dist-packages (from tensorflow) (3.3.0)\n",
      "Requirement already satisfied: cached-property in /usr/local/lib/python3.7/dist-packages (from h5py~=3.1.0->tensorflow) (1.5.2)\n",
      "Requirement already satisfied: google-auth<2,>=1.6.3 in /usr/local/lib/python3.7/dist-packages (from tensorboard~=2.5->tensorflow) (1.32.1)\n",
      "Requirement already satisfied: google-auth-oauthlib<0.5,>=0.4.1 in /usr/local/lib/python3.7/dist-packages (from tensorboard~=2.5->tensorflow) (0.4.4)\n",
      "Requirement already satisfied: requests<3,>=2.21.0 in /usr/local/lib/python3.7/dist-packages (from tensorboard~=2.5->tensorflow) (2.23.0)\n",
      "Requirement already satisfied: tensorboard-data-server<0.7.0,>=0.6.0 in /usr/local/lib/python3.7/dist-packages (from tensorboard~=2.5->tensorflow) (0.6.1)\n",
      "Requirement already satisfied: markdown>=2.6.8 in /usr/local/lib/python3.7/dist-packages (from tensorboard~=2.5->tensorflow) (3.3.4)\n",
      "Requirement already satisfied: werkzeug>=0.11.15 in /usr/local/lib/python3.7/dist-packages (from tensorboard~=2.5->tensorflow) (1.0.1)\n",
      "Requirement already satisfied: setuptools>=41.0.0 in /usr/local/lib/python3.7/dist-packages (from tensorboard~=2.5->tensorflow) (57.2.0)\n",
      "Requirement already satisfied: tensorboard-plugin-wit>=1.6.0 in /usr/local/lib/python3.7/dist-packages (from tensorboard~=2.5->tensorflow) (1.8.0)\n",
      "Requirement already satisfied: cachetools<5.0,>=2.0.0 in /usr/local/lib/python3.7/dist-packages (from google-auth<2,>=1.6.3->tensorboard~=2.5->tensorflow) (4.2.2)\n",
      "Requirement already satisfied: rsa<5,>=3.1.4 in /usr/local/lib/python3.7/dist-packages (from google-auth<2,>=1.6.3->tensorboard~=2.5->tensorflow) (4.7.2)\n",
      "Requirement already satisfied: pyasn1-modules>=0.2.1 in /usr/local/lib/python3.7/dist-packages (from google-auth<2,>=1.6.3->tensorboard~=2.5->tensorflow) (0.2.8)\n",
      "Requirement already satisfied: requests-oauthlib>=0.7.0 in /usr/local/lib/python3.7/dist-packages (from google-auth-oauthlib<0.5,>=0.4.1->tensorboard~=2.5->tensorflow) (1.3.0)\n",
      "Requirement already satisfied: importlib-metadata in /usr/local/lib/python3.7/dist-packages (from markdown>=2.6.8->tensorboard~=2.5->tensorflow) (4.6.1)\n",
      "Requirement already satisfied: pyasn1<0.5.0,>=0.4.6 in /usr/local/lib/python3.7/dist-packages (from pyasn1-modules>=0.2.1->google-auth<2,>=1.6.3->tensorboard~=2.5->tensorflow) (0.4.8)\n",
      "Requirement already satisfied: certifi>=2017.4.17 in /usr/local/lib/python3.7/dist-packages (from requests<3,>=2.21.0->tensorboard~=2.5->tensorflow) (2021.5.30)\n",
      "Requirement already satisfied: chardet<4,>=3.0.2 in /usr/local/lib/python3.7/dist-packages (from requests<3,>=2.21.0->tensorboard~=2.5->tensorflow) (3.0.4)\n",
      "Requirement already satisfied: urllib3!=1.25.0,!=1.25.1,<1.26,>=1.21.1 in /usr/local/lib/python3.7/dist-packages (from requests<3,>=2.21.0->tensorboard~=2.5->tensorflow) (1.24.3)\n",
      "Requirement already satisfied: idna<3,>=2.5 in /usr/local/lib/python3.7/dist-packages (from requests<3,>=2.21.0->tensorboard~=2.5->tensorflow) (2.10)\n",
      "Requirement already satisfied: oauthlib>=3.0.0 in /usr/local/lib/python3.7/dist-packages (from requests-oauthlib>=0.7.0->google-auth-oauthlib<0.5,>=0.4.1->tensorboard~=2.5->tensorflow) (3.1.1)\n",
      "Requirement already satisfied: zipp>=0.5 in /usr/local/lib/python3.7/dist-packages (from importlib-metadata->markdown>=2.6.8->tensorboard~=2.5->tensorflow) (3.5.0)\n",
      "\u001B[33mWARNING: --use-feature=2020-resolver no longer has any effect, since it is now the default dependency resolver in pip. This will become an error in pip 21.0.\u001B[0m\n",
      "Collecting sentencepiece\n",
      "  Downloading sentencepiece-0.1.96-cp37-cp37m-manylinux_2_17_x86_64.manylinux2014_x86_64.whl (1.2 MB)\n",
      "\u001B[K     |████████████████████████████████| 1.2 MB 12.5 MB/s \n",
      "\u001B[?25hRequirement already satisfied: lightgbm in /usr/local/lib/python3.7/dist-packages (2.2.3)\n",
      "Collecting scikit-learn==0.24.0\n",
      "  Downloading scikit_learn-0.24.0-cp37-cp37m-manylinux2010_x86_64.whl (22.3 MB)\n",
      "\u001B[K     |████████████████████████████████| 22.3 MB 9.2 MB/s \n",
      "\u001B[?25hRequirement already satisfied: gensim in /usr/local/lib/python3.7/dist-packages (3.6.0)\n",
      "Requirement already satisfied: pathlib in /usr/local/lib/python3.7/dist-packages (1.0.1)\n",
      "Collecting python-crfsuite\n",
      "  Downloading python_crfsuite-0.9.7-cp37-cp37m-manylinux1_x86_64.whl (743 kB)\n",
      "\u001B[K     |████████████████████████████████| 743 kB 66.7 MB/s \n",
      "\u001B[?25hCollecting colorama\n",
      "  Downloading colorama-0.4.4-py2.py3-none-any.whl (16 kB)\n",
      "Collecting coloredlogs\n",
      "  Downloading coloredlogs-15.0.1-py2.py3-none-any.whl (46 kB)\n",
      "\u001B[K     |████████████████████████████████| 46 kB 3.5 MB/s \n",
      "\u001B[?25hRequirement already satisfied: requests in /usr/local/lib/python3.7/dist-packages (2.23.0)\n",
      "Requirement already satisfied: flask in /usr/local/lib/python3.7/dist-packages (1.1.4)\n",
      "Collecting flask_sqlalchemy\n",
      "  Downloading Flask_SQLAlchemy-2.5.1-py2.py3-none-any.whl (17 kB)\n",
      "Collecting flask_wtf\n",
      "  Downloading Flask_WTF-0.15.1-py2.py3-none-any.whl (13 kB)\n",
      "Requirement already satisfied: h5py in /usr/local/lib/python3.7/dist-packages (3.1.0)\n",
      "Collecting pyconll\n",
      "  Downloading pyconll-3.1.0-py3-none-any.whl (26 kB)\n",
      "Collecting ufal.udpipe\n",
      "  Downloading ufal.udpipe-1.2.0.3.tar.gz (304 kB)\n",
      "\u001B[K     |████████████████████████████████| 304 kB 58.8 MB/s \n",
      "\u001B[?25hRequirement already satisfied: pyyaml in /usr/local/lib/python3.7/dist-packages (3.13)\n",
      "Collecting threadpoolctl>=2.0.0\n",
      "  Downloading threadpoolctl-2.2.0-py3-none-any.whl (12 kB)\n",
      "Requirement already satisfied: joblib>=0.11 in /usr/local/lib/python3.7/dist-packages (from scikit-learn==0.24.0) (1.0.1)\n",
      "Requirement already satisfied: numpy>=1.13.3 in /usr/local/lib/python3.7/dist-packages (from scikit-learn==0.24.0) (1.19.5)\n",
      "Requirement already satisfied: scipy>=0.19.1 in /usr/local/lib/python3.7/dist-packages (from scikit-learn==0.24.0) (1.4.1)\n",
      "Requirement already satisfied: six>=1.5.0 in /usr/local/lib/python3.7/dist-packages (from gensim) (1.15.0)\n",
      "Requirement already satisfied: smart-open>=1.2.1 in /usr/local/lib/python3.7/dist-packages (from gensim) (5.1.0)\n",
      "Collecting humanfriendly>=9.1\n",
      "  Downloading humanfriendly-9.2-py2.py3-none-any.whl (86 kB)\n",
      "\u001B[K     |████████████████████████████████| 86 kB 5.6 MB/s \n",
      "\u001B[?25hRequirement already satisfied: idna<3,>=2.5 in /usr/local/lib/python3.7/dist-packages (from requests) (2.10)\n",
      "Requirement already satisfied: urllib3!=1.25.0,!=1.25.1,<1.26,>=1.21.1 in /usr/local/lib/python3.7/dist-packages (from requests) (1.24.3)\n",
      "Requirement already satisfied: certifi>=2017.4.17 in /usr/local/lib/python3.7/dist-packages (from requests) (2021.5.30)\n",
      "Requirement already satisfied: chardet<4,>=3.0.2 in /usr/local/lib/python3.7/dist-packages (from requests) (3.0.4)\n",
      "Requirement already satisfied: itsdangerous<2.0,>=0.24 in /usr/local/lib/python3.7/dist-packages (from flask) (1.1.0)\n",
      "Requirement already satisfied: Jinja2<3.0,>=2.10.1 in /usr/local/lib/python3.7/dist-packages (from flask) (2.11.3)\n",
      "Requirement already satisfied: Werkzeug<2.0,>=0.15 in /usr/local/lib/python3.7/dist-packages (from flask) (1.0.1)\n",
      "Requirement already satisfied: click<8.0,>=5.1 in /usr/local/lib/python3.7/dist-packages (from flask) (7.1.2)\n",
      "Requirement already satisfied: MarkupSafe>=0.23 in /usr/local/lib/python3.7/dist-packages (from Jinja2<3.0,>=2.10.1->flask) (2.0.1)\n",
      "Requirement already satisfied: SQLAlchemy>=0.8.0 in /usr/local/lib/python3.7/dist-packages (from flask_sqlalchemy) (1.4.20)\n",
      "Requirement already satisfied: greenlet!=0.4.17 in /usr/local/lib/python3.7/dist-packages (from SQLAlchemy>=0.8.0->flask_sqlalchemy) (1.1.0)\n",
      "Requirement already satisfied: importlib-metadata in /usr/local/lib/python3.7/dist-packages (from SQLAlchemy>=0.8.0->flask_sqlalchemy) (4.6.1)\n",
      "Collecting WTForms\n",
      "  Downloading WTForms-2.3.3-py2.py3-none-any.whl (169 kB)\n",
      "\u001B[K     |████████████████████████████████| 169 kB 50.6 MB/s \n",
      "\u001B[?25hRequirement already satisfied: cached-property in /usr/local/lib/python3.7/dist-packages (from h5py) (1.5.2)\n",
      "Requirement already satisfied: typing-extensions>=3.6.4 in /usr/local/lib/python3.7/dist-packages (from importlib-metadata->SQLAlchemy>=0.8.0->flask_sqlalchemy) (3.7.4.3)\n",
      "Requirement already satisfied: zipp>=0.5 in /usr/local/lib/python3.7/dist-packages (from importlib-metadata->SQLAlchemy>=0.8.0->flask_sqlalchemy) (3.5.0)\n",
      "Building wheels for collected packages: ufal.udpipe\n",
      "  Building wheel for ufal.udpipe (setup.py) ... \u001B[?25l\u001B[?25hdone\n",
      "  Created wheel for ufal.udpipe: filename=ufal.udpipe-1.2.0.3-cp37-cp37m-linux_x86_64.whl size=5626623 sha256=3412123976423ab7e4acc55aa22094f5775487eaa45283635fed2eed5deea5b1\n",
      "  Stored in directory: /root/.cache/pip/wheels/b8/b5/8e/3da091629a21ce2d10bf90759d0cb034ba10a5cf7a01e83d64\n",
      "Successfully built ufal.udpipe\n",
      "Installing collected packages: threadpoolctl, WTForms, scikit-learn, humanfriendly, ufal.udpipe, sentencepiece, python-crfsuite, pyconll, flask-wtf, flask-sqlalchemy, coloredlogs, colorama\n",
      "  Attempting uninstall: scikit-learn\n",
      "    Found existing installation: scikit-learn 0.22.2.post1\n",
      "    Uninstalling scikit-learn-0.22.2.post1:\n",
      "      Successfully uninstalled scikit-learn-0.22.2.post1\n",
      "Successfully installed WTForms-2.3.3 colorama-0.4.4 coloredlogs-15.0.1 flask-sqlalchemy-2.5.1 flask-wtf-0.15.1 humanfriendly-9.2 pyconll-3.1.0 python-crfsuite-0.9.7 scikit-learn-0.24.0 sentencepiece-0.1.96 threadpoolctl-2.2.0 ufal.udpipe-1.2.0.3\n",
      "\u001B[33mWARNING: --use-feature=2020-resolver no longer has any effect, since it is now the default dependency resolver in pip. This will become an error in pip 21.0.\u001B[0m\n",
      "Collecting tensorflow-addons\n",
      "  Downloading tensorflow_addons-0.13.0-cp37-cp37m-manylinux2010_x86_64.whl (679 kB)\n",
      "\u001B[K     |████████████████████████████████| 679 kB 12.9 MB/s \n",
      "\u001B[?25hRequirement already satisfied: typeguard>=2.7 in /usr/local/lib/python3.7/dist-packages (from tensorflow-addons) (2.7.1)\n",
      "Installing collected packages: tensorflow-addons\n",
      "Successfully installed tensorflow-addons-0.13.0\n",
      "Collecting python-Levenshtein\n",
      "  Downloading python-Levenshtein-0.12.2.tar.gz (50 kB)\n",
      "\u001B[K     |████████████████████████████████| 50 kB 4.9 MB/s \n",
      "\u001B[?25hRequirement already satisfied: setuptools in /usr/local/lib/python3.7/dist-packages (from python-Levenshtein) (57.2.0)\n",
      "Building wheels for collected packages: python-Levenshtein\n",
      "  Building wheel for python-Levenshtein (setup.py) ... \u001B[?25l\u001B[?25hdone\n",
      "  Created wheel for python-Levenshtein: filename=python_Levenshtein-0.12.2-cp37-cp37m-linux_x86_64.whl size=149864 sha256=7fb0a03bee28dfd19e1226cf340878091e36c1bc938632cb9bf550cd8b514045\n",
      "  Stored in directory: /root/.cache/pip/wheels/05/5f/ca/7c4367734892581bb5ff896f15027a932c551080b2abd3e00d\n",
      "Successfully built python-Levenshtein\n",
      "Installing collected packages: python-Levenshtein\n",
      "Successfully installed python-Levenshtein-0.12.2\n",
      "Collecting transformers\n",
      "  Downloading transformers-4.8.2-py3-none-any.whl (2.5 MB)\n",
      "\u001B[K     |████████████████████████████████| 2.5 MB 12.4 MB/s \n",
      "\u001B[?25hRequirement already satisfied: tqdm>=4.27 in /usr/local/lib/python3.7/dist-packages (from transformers) (4.41.1)\n",
      "Requirement already satisfied: packaging in /usr/local/lib/python3.7/dist-packages (from transformers) (21.0)\n",
      "Requirement already satisfied: importlib-metadata in /usr/local/lib/python3.7/dist-packages (from transformers) (4.6.1)\n",
      "Collecting huggingface-hub==0.0.12\n",
      "  Downloading huggingface_hub-0.0.12-py3-none-any.whl (37 kB)\n",
      "Requirement already satisfied: regex!=2019.12.17 in /usr/local/lib/python3.7/dist-packages (from transformers) (2019.12.20)\n",
      "Requirement already satisfied: numpy>=1.17 in /usr/local/lib/python3.7/dist-packages (from transformers) (1.19.5)\n",
      "Collecting sacremoses\n",
      "  Downloading sacremoses-0.0.45-py3-none-any.whl (895 kB)\n",
      "\u001B[K     |████████████████████████████████| 895 kB 45.1 MB/s \n",
      "\u001B[?25hCollecting tokenizers<0.11,>=0.10.1\n",
      "  Downloading tokenizers-0.10.3-cp37-cp37m-manylinux_2_5_x86_64.manylinux1_x86_64.manylinux_2_12_x86_64.manylinux2010_x86_64.whl (3.3 MB)\n",
      "\u001B[K     |████████████████████████████████| 3.3 MB 41.6 MB/s \n",
      "\u001B[?25hRequirement already satisfied: requests in /usr/local/lib/python3.7/dist-packages (from transformers) (2.23.0)\n",
      "Requirement already satisfied: pyyaml in /usr/local/lib/python3.7/dist-packages (from transformers) (3.13)\n",
      "Requirement already satisfied: filelock in /usr/local/lib/python3.7/dist-packages (from transformers) (3.0.12)\n",
      "Requirement already satisfied: typing-extensions in /usr/local/lib/python3.7/dist-packages (from huggingface-hub==0.0.12->transformers) (3.7.4.3)\n",
      "Requirement already satisfied: pyparsing>=2.0.2 in /usr/local/lib/python3.7/dist-packages (from packaging->transformers) (2.4.7)\n",
      "Requirement already satisfied: zipp>=0.5 in /usr/local/lib/python3.7/dist-packages (from importlib-metadata->transformers) (3.5.0)\n",
      "Requirement already satisfied: idna<3,>=2.5 in /usr/local/lib/python3.7/dist-packages (from requests->transformers) (2.10)\n",
      "Requirement already satisfied: urllib3!=1.25.0,!=1.25.1,<1.26,>=1.21.1 in /usr/local/lib/python3.7/dist-packages (from requests->transformers) (1.24.3)\n",
      "Requirement already satisfied: certifi>=2017.4.17 in /usr/local/lib/python3.7/dist-packages (from requests->transformers) (2021.5.30)\n",
      "Requirement already satisfied: chardet<4,>=3.0.2 in /usr/local/lib/python3.7/dist-packages (from requests->transformers) (3.0.4)\n",
      "Requirement already satisfied: click in /usr/local/lib/python3.7/dist-packages (from sacremoses->transformers) (7.1.2)\n",
      "Requirement already satisfied: joblib in /usr/local/lib/python3.7/dist-packages (from sacremoses->transformers) (1.0.1)\n",
      "Requirement already satisfied: six in /usr/local/lib/python3.7/dist-packages (from sacremoses->transformers) (1.15.0)\n",
      "Installing collected packages: tokenizers, sacremoses, huggingface-hub, transformers\n",
      "Successfully installed huggingface-hub-0.0.12 sacremoses-0.0.45 tokenizers-0.10.3 transformers-4.8.2\n",
      "Requirement already satisfied: torch in /usr/local/lib/python3.7/dist-packages (1.9.0+cu102)\n",
      "Requirement already satisfied: typing-extensions in /usr/local/lib/python3.7/dist-packages (from torch) (3.7.4.3)\n"
     ],
     "name": "stdout"
    }
   ]
  },
  {
   "cell_type": "code",
   "metadata": {
    "colab": {
     "base_uri": "https://localhost:8080/",
     "height": 567
    },
    "id": "gZrL3_5Jrt1V",
    "executionInfo": {
     "status": "ok",
     "timestamp": 1626937856762,
     "user_tz": -600,
     "elapsed": 4756,
     "user": {
      "displayName": "iondv Co",
      "photoUrl": "https://lh3.googleusercontent.com/a-/AOh14GiDKlZy__VZpc6lxMLi3NxuxxFA1ew71kz_QHEe=s64",
      "userId": "12811652262630697110"
     }
    },
    "outputId": "9d577d32-64e9-426d-a075-8d6b91d82983"
   },
   "source": [
    "%pip install python-telegram-bot --upgrade"
   ],
   "execution_count": 5,
   "outputs": [
    {
     "output_type": "stream",
     "text": [
      "Collecting python-telegram-bot\n",
      "  Downloading python_telegram_bot-13.7-py3-none-any.whl (490 kB)\n",
      "\u001B[?25l\r\u001B[K     |▊                               | 10 kB 26.5 MB/s eta 0:00:01\r\u001B[K     |█▍                              | 20 kB 32.5 MB/s eta 0:00:01\r\u001B[K     |██                              | 30 kB 36.4 MB/s eta 0:00:01\r\u001B[K     |██▊                             | 40 kB 23.1 MB/s eta 0:00:01\r\u001B[K     |███▍                            | 51 kB 18.5 MB/s eta 0:00:01\r\u001B[K     |████                            | 61 kB 14.4 MB/s eta 0:00:01\r\u001B[K     |████▊                           | 71 kB 14.7 MB/s eta 0:00:01\r\u001B[K     |█████▍                          | 81 kB 15.9 MB/s eta 0:00:01\r\u001B[K     |██████                          | 92 kB 16.0 MB/s eta 0:00:01\r\u001B[K     |██████▊                         | 102 kB 12.4 MB/s eta 0:00:01\r\u001B[K     |███████▍                        | 112 kB 12.4 MB/s eta 0:00:01\r\u001B[K     |████████                        | 122 kB 12.4 MB/s eta 0:00:01\r\u001B[K     |████████▊                       | 133 kB 12.4 MB/s eta 0:00:01\r\u001B[K     |█████████▍                      | 143 kB 12.4 MB/s eta 0:00:01\r\u001B[K     |██████████                      | 153 kB 12.4 MB/s eta 0:00:01\r\u001B[K     |██████████▊                     | 163 kB 12.4 MB/s eta 0:00:01\r\u001B[K     |███████████▍                    | 174 kB 12.4 MB/s eta 0:00:01\r\u001B[K     |████████████                    | 184 kB 12.4 MB/s eta 0:00:01\r\u001B[K     |████████████▊                   | 194 kB 12.4 MB/s eta 0:00:01\r\u001B[K     |█████████████▍                  | 204 kB 12.4 MB/s eta 0:00:01\r\u001B[K     |██████████████                  | 215 kB 12.4 MB/s eta 0:00:01\r\u001B[K     |██████████████▊                 | 225 kB 12.4 MB/s eta 0:00:01\r\u001B[K     |███████████████▍                | 235 kB 12.4 MB/s eta 0:00:01\r\u001B[K     |████████████████                | 245 kB 12.4 MB/s eta 0:00:01\r\u001B[K     |████████████████▊               | 256 kB 12.4 MB/s eta 0:00:01\r\u001B[K     |█████████████████▍              | 266 kB 12.4 MB/s eta 0:00:01\r\u001B[K     |██████████████████              | 276 kB 12.4 MB/s eta 0:00:01\r\u001B[K     |██████████████████▊             | 286 kB 12.4 MB/s eta 0:00:01\r\u001B[K     |███████████████████▍            | 296 kB 12.4 MB/s eta 0:00:01\r\u001B[K     |████████████████████            | 307 kB 12.4 MB/s eta 0:00:01\r\u001B[K     |████████████████████▊           | 317 kB 12.4 MB/s eta 0:00:01\r\u001B[K     |█████████████████████▍          | 327 kB 12.4 MB/s eta 0:00:01\r\u001B[K     |██████████████████████          | 337 kB 12.4 MB/s eta 0:00:01\r\u001B[K     |██████████████████████▊         | 348 kB 12.4 MB/s eta 0:00:01\r\u001B[K     |███████████████████████▍        | 358 kB 12.4 MB/s eta 0:00:01\r\u001B[K     |████████████████████████        | 368 kB 12.4 MB/s eta 0:00:01\r\u001B[K     |████████████████████████▊       | 378 kB 12.4 MB/s eta 0:00:01\r\u001B[K     |█████████████████████████▍      | 389 kB 12.4 MB/s eta 0:00:01\r\u001B[K     |██████████████████████████      | 399 kB 12.4 MB/s eta 0:00:01\r\u001B[K     |██████████████████████████▊     | 409 kB 12.4 MB/s eta 0:00:01\r\u001B[K     |███████████████████████████▍    | 419 kB 12.4 MB/s eta 0:00:01\r\u001B[K     |████████████████████████████    | 430 kB 12.4 MB/s eta 0:00:01\r\u001B[K     |████████████████████████████▊   | 440 kB 12.4 MB/s eta 0:00:01\r\u001B[K     |█████████████████████████████▍  | 450 kB 12.4 MB/s eta 0:00:01\r\u001B[K     |██████████████████████████████  | 460 kB 12.4 MB/s eta 0:00:01\r\u001B[K     |██████████████████████████████▊ | 471 kB 12.4 MB/s eta 0:00:01\r\u001B[K     |███████████████████████████████▍| 481 kB 12.4 MB/s eta 0:00:01\r\u001B[K     |████████████████████████████████| 490 kB 12.4 MB/s \n",
      "\u001B[?25hRequirement already satisfied: certifi in /usr/local/lib/python3.7/dist-packages (from python-telegram-bot) (2021.5.30)\n",
      "Collecting APScheduler==3.6.3\n",
      "  Downloading APScheduler-3.6.3-py2.py3-none-any.whl (58 kB)\n",
      "\u001B[?25l\r\u001B[K     |█████▋                          | 10 kB 34.6 MB/s eta 0:00:01\r\u001B[K     |███████████▏                    | 20 kB 38.5 MB/s eta 0:00:01\r\u001B[K     |████████████████▊               | 30 kB 44.9 MB/s eta 0:00:01\r\u001B[K     |██████████████████████▎         | 40 kB 48.0 MB/s eta 0:00:01\r\u001B[K     |███████████████████████████▉    | 51 kB 49.3 MB/s eta 0:00:01\r\u001B[K     |████████████████████████████████| 58 kB 5.6 MB/s \n",
      "\u001B[?25hRequirement already satisfied: pytz>=2018.6 in /usr/local/lib/python3.7/dist-packages (from python-telegram-bot) (2018.9)\n",
      "Collecting tornado>=6.1\n",
      "  Downloading tornado-6.1-cp37-cp37m-manylinux2010_x86_64.whl (428 kB)\n",
      "\u001B[K     |████████████████████████████████| 428 kB 22.9 MB/s \n",
      "\u001B[?25hRequirement already satisfied: cachetools==4.2.2 in /usr/local/lib/python3.7/dist-packages (from python-telegram-bot) (4.2.2)\n",
      "Requirement already satisfied: six>=1.4.0 in /usr/local/lib/python3.7/dist-packages (from APScheduler==3.6.3->python-telegram-bot) (1.15.0)\n",
      "Requirement already satisfied: setuptools>=0.7 in /usr/local/lib/python3.7/dist-packages (from APScheduler==3.6.3->python-telegram-bot) (57.2.0)\n",
      "Requirement already satisfied: tzlocal>=1.2 in /usr/local/lib/python3.7/dist-packages (from APScheduler==3.6.3->python-telegram-bot) (1.5.1)\n",
      "Installing collected packages: tornado, APScheduler, python-telegram-bot\n",
      "  Attempting uninstall: tornado\n",
      "    Found existing installation: tornado 5.1.1\n",
      "    Uninstalling tornado-5.1.1:\n",
      "      Successfully uninstalled tornado-5.1.1\n",
      "\u001B[31mERROR: pip's dependency resolver does not currently take into account all the packages that are installed. This behaviour is the source of the following dependency conflicts.\n",
      "google-colab 1.0.0 requires tornado~=5.1.0; python_version >= \"3.0\", but you have tornado 6.1 which is incompatible.\u001B[0m\n",
      "Successfully installed APScheduler-3.6.3 python-telegram-bot-13.7 tornado-6.1\n"
     ],
     "name": "stdout"
    },
    {
     "output_type": "display_data",
     "data": {
      "application/vnd.colab-display-data+json": {
       "pip_warning": {
        "packages": [
         "tornado"
        ]
       }
      }
     },
     "metadata": {
      "tags": []
     }
    }
   ]
  },
  {
   "cell_type": "code",
   "metadata": {
    "colab": {
     "base_uri": "https://localhost:8080/"
    },
    "id": "oDXptx1TqpPZ",
    "executionInfo": {
     "status": "ok",
     "timestamp": 1626938740279,
     "user_tz": -600,
     "elapsed": 38954,
     "user": {
      "displayName": "iondv Co",
      "photoUrl": "https://lh3.googleusercontent.com/a-/AOh14GiDKlZy__VZpc6lxMLi3NxuxxFA1ew71kz_QHEe=s64",
      "userId": "12811652262630697110"
     }
    },
    "outputId": "ae65dc60-0628-4d69-8faa-04286caa9a18"
   },
   "source": [
    "%mkdir /content/temp\n",
    "%cd /content/temp\n",
    "!git clone https://github.com/Koziev/ruword2tags.git\n",
    "#%cp -r $ADDITIONAL_FILES/ruword2tags.db /content/temp/ruword2tags/ruword2tags/ruword2tags.db\n",
    "#%cd /content/temp/ruword2tags\n",
    "%cd /content/temp/ruword2tags/ruword2tags\n",
    "!gdown https://drive.google.com/u/0/uc?id=1xlL8ijnwE6tAPpsil7Q1yWkXY4mn2YCd&export=download\n",
    "cd ..\n",
    "%pip install .\n",
    "%cd /content/"
   ],
   "execution_count": 13,
   "outputs": [
    {
     "output_type": "stream",
     "text": [
      "mkdir: cannot create directory ‘/content/temp’: File exists\n",
      "/content/temp\n",
      "/content/temp/ruword2tags\n",
      "Processing /content/temp/ruword2tags\n",
      "\u001B[33m  DEPRECATION: A future pip version will change local packages to be built in-place without first copying to a temporary directory. We recommend you use --use-feature=in-tree-build to test your packages with this new behavior before it becomes the default.\n",
      "   pip 21.3 will remove support for this functionality. You can find discussion regarding this at https://github.com/pypa/pip/issues/7555.\u001B[0m\n",
      "Building wheels for collected packages: ruword2tags\n",
      "  Building wheel for ruword2tags (setup.py) ... \u001B[?25l\u001B[?25hdone\n",
      "  Created wheel for ruword2tags: filename=ruword2tags-0.0.52-py3-none-any.whl size=90241828 sha256=fa2cc75abf3e33201b2a7ea7e80ab16751588f6bf1cabeca89a68e04f283f293\n",
      "  Stored in directory: /tmp/pip-ephem-wheel-cache-rrcwfkj8/wheels/06/0f/95/af4534dd48d226f5bdf30640a9346a872b4aca580c97f561ee\n",
      "Successfully built ruword2tags\n",
      "Installing collected packages: ruword2tags\n",
      "  Attempting uninstall: ruword2tags\n",
      "    Found existing installation: ruword2tags 0.0.52\n",
      "    Uninstalling ruword2tags-0.0.52:\n",
      "      Successfully uninstalled ruword2tags-0.0.52\n",
      "Successfully installed ruword2tags-0.0.52\n",
      "/content\n"
     ],
     "name": "stdout"
    }
   ]
  },
  {
   "cell_type": "code",
   "metadata": {
    "colab": {
     "base_uri": "https://localhost:8080/"
    },
    "id": "bRzTYtqD243h",
    "executionInfo": {
     "status": "ok",
     "timestamp": 1626937916870,
     "user_tz": -600,
     "elapsed": 59078,
     "user": {
      "displayName": "iondv Co",
      "photoUrl": "https://lh3.googleusercontent.com/a-/AOh14GiDKlZy__VZpc6lxMLi3NxuxxFA1ew71kz_QHEe=s64",
      "userId": "12811652262630697110"
     }
    },
    "outputId": "af185ea3-3a1b-43e8-b96f-640f98d13130"
   },
   "source": [
    "%pip install git+https://github.com/Koziev/rulemma\n",
    "%pip install git+https://github.com/Koziev/rutokenizer\n",
    "%pip install git+https://github.com/Koziev/rupostagger\n",
    "#pip install git+https://github.com/Koziev/ruword2tags\n",
    "%pip install git+https://github.com/Koziev/rusyllab\n",
    "%pip install git+https://github.com/Koziev/ruchunker"
   ],
   "execution_count": 7,
   "outputs": [
    {
     "output_type": "stream",
     "text": [
      "Collecting git+https://github.com/Koziev/rulemma\n",
      "  Cloning https://github.com/Koziev/rulemma to /tmp/pip-req-build-kjkty20n\n",
      "  Running command git clone -q https://github.com/Koziev/rulemma /tmp/pip-req-build-kjkty20n\n",
      "Building wheels for collected packages: rulemma\n",
      "  Building wheel for rulemma (setup.py) ... \u001B[?25l\u001B[?25hdone\n",
      "  Created wheel for rulemma: filename=rulemma-0.0.44-py3-none-any.whl size=16113695 sha256=cf407efcf5cf5fdd882380070f8992f3ebdb262d36bcaf62112395ac099a4f46\n",
      "  Stored in directory: /tmp/pip-ephem-wheel-cache-exv0pjh2/wheels/b7/89/eb/a075486911bb14812212596d44434c565b9d6f03659c09fbbe\n",
      "Successfully built rulemma\n",
      "Installing collected packages: rulemma\n",
      "Successfully installed rulemma-0.0.44\n",
      "Collecting git+https://github.com/Koziev/rutokenizer\n",
      "  Cloning https://github.com/Koziev/rutokenizer to /tmp/pip-req-build-v9cg_why\n",
      "  Running command git clone -q https://github.com/Koziev/rutokenizer /tmp/pip-req-build-v9cg_why\n",
      "Building wheels for collected packages: rutokenizer\n",
      "  Building wheel for rutokenizer (setup.py) ... \u001B[?25l\u001B[?25hdone\n",
      "  Created wheel for rutokenizer: filename=rutokenizer-0.0.24-py3-none-any.whl size=30370096 sha256=4430b11b153d17b908e31b0646389beec39bb2581de37e87a9e64ab67806b814\n",
      "  Stored in directory: /tmp/pip-ephem-wheel-cache-b4cqsxav/wheels/4f/16/38/bc9a8709d5147c32f2847e21aa6ce976e16399b6c14407d8ab\n",
      "Successfully built rutokenizer\n",
      "Installing collected packages: rutokenizer\n",
      "Successfully installed rutokenizer-0.0.24\n",
      "Collecting git+https://github.com/Koziev/rupostagger\n",
      "  Cloning https://github.com/Koziev/rupostagger to /tmp/pip-req-build-yba8ywxi\n",
      "  Running command git clone -q https://github.com/Koziev/rupostagger /tmp/pip-req-build-yba8ywxi\n",
      "Building wheels for collected packages: rupostagger\n",
      "  Building wheel for rupostagger (setup.py) ... \u001B[?25l\u001B[?25hdone\n",
      "  Created wheel for rupostagger: filename=rupostagger-0.0.76-py3-none-any.whl size=1238232 sha256=3ea3ab095345db59e3ea878aff371144ce4a16856ace422d40edb22d99896df3\n",
      "  Stored in directory: /tmp/pip-ephem-wheel-cache-xyaz3okh/wheels/38/cb/85/5522960d1fbce872e8d253c2d571ac6360a98bc6bc8925d6ab\n",
      "Successfully built rupostagger\n",
      "Installing collected packages: rupostagger\n",
      "Successfully installed rupostagger-0.0.76\n",
      "Collecting git+https://github.com/Koziev/rusyllab\n",
      "  Cloning https://github.com/Koziev/rusyllab to /tmp/pip-req-build-00mn798d\n",
      "  Running command git clone -q https://github.com/Koziev/rusyllab /tmp/pip-req-build-00mn798d\n",
      "Building wheels for collected packages: rusyllab\n",
      "  Building wheel for rusyllab (setup.py) ... \u001B[?25l\u001B[?25hdone\n",
      "  Created wheel for rusyllab: filename=rusyllab-0.0.4-py3-none-any.whl size=16035 sha256=b4de658d8e1f223379654018cc900f1558b95f293a35108837d02b7532ba348c\n",
      "  Stored in directory: /tmp/pip-ephem-wheel-cache-r0ubx63k/wheels/3f/46/49/ced27fc6504451a7da2ff742e0427828c70af605e22236fc98\n",
      "Successfully built rusyllab\n",
      "Installing collected packages: rusyllab\n",
      "Successfully installed rusyllab-0.0.4\n",
      "Collecting git+https://github.com/Koziev/ruchunker\n",
      "  Cloning https://github.com/Koziev/ruchunker to /tmp/pip-req-build-r3h16h3f\n",
      "  Running command git clone -q https://github.com/Koziev/ruchunker /tmp/pip-req-build-r3h16h3f\n",
      "Building wheels for collected packages: ruchunker\n",
      "  Building wheel for ruchunker (setup.py) ... \u001B[?25l\u001B[?25hdone\n",
      "  Created wheel for ruchunker: filename=ruchunker-0.0.12-py3-none-any.whl size=994318 sha256=b5a2803ee114b502671ae6a2613e1eea1fefa38b1a5eb0848c1731bcdcd2d290\n",
      "  Stored in directory: /tmp/pip-ephem-wheel-cache-dsxai7y7/wheels/b8/b6/ea/0e22fa531f510857a445025244dd2287beb2c8ded0be598a87\n",
      "Successfully built ruchunker\n",
      "Installing collected packages: ruchunker\n",
      "Successfully installed ruchunker-0.0.12\n"
     ],
     "name": "stdout"
    }
   ]
  },
  {
   "cell_type": "markdown",
   "metadata": {
    "id": "YNl7YAj63R4Y"
   },
   "source": [
    "# Устанавливаем чатбот из репозитория"
   ]
  },
  {
   "cell_type": "code",
   "metadata": {
    "colab": {
     "base_uri": "https://localhost:8080/"
    },
    "id": "BsfT0xx79syj",
    "executionInfo": {
     "status": "ok",
     "timestamp": 1626938319624,
     "user_tz": -600,
     "elapsed": 80253,
     "user": {
      "displayName": "iondv Co",
      "photoUrl": "https://lh3.googleusercontent.com/a-/AOh14GiDKlZy__VZpc6lxMLi3NxuxxFA1ew71kz_QHEe=s64",
      "userId": "12811652262630697110"
     }
    },
    "outputId": "6bd968cc-9354-4137-892b-9a0a12101469"
   },
   "source": [
    "# Клонируем исправленный репозиторий по библиотекам и дополнениями из докера\n",
    "!git clone https://github.com/akumidv/chatbot.git /content/chatbot"
   ],
   "execution_count": 10,
   "outputs": [
    {
     "output_type": "stream",
     "text": [
      "Cloning into '/content/chatbot'...\n",
      "remote: Enumerating objects: 4235, done.\u001B[K\n",
      "remote: Counting objects: 100% (1421/1421), done.\u001B[K\n",
      "remote: Compressing objects: 100% (776/776), done.\u001B[K\n",
      "remote: Total 4235 (delta 1029), reused 984 (delta 636), pack-reused 2814\u001B[K\n",
      "Receiving objects: 100% (4235/4235), 1.73 GiB | 24.18 MiB/s, done.\n",
      "Resolving deltas: 100% (2858/2858), done.\n"
     ],
     "name": "stdout"
    }
   ]
  },
  {
   "cell_type": "code",
   "metadata": {
    "colab": {
     "base_uri": "https://localhost:8080/"
    },
    "id": "NWKTV17Y3heI",
    "executionInfo": {
     "status": "ok",
     "timestamp": 1626938349223,
     "user_tz": -600,
     "elapsed": 29607,
     "user": {
      "displayName": "iondv Co",
      "photoUrl": "https://lh3.googleusercontent.com/a-/AOh14GiDKlZy__VZpc6lxMLi3NxuxxFA1ew71kz_QHEe=s64",
      "userId": "12811652262630697110"
     }
    },
    "outputId": "f6748878-d38f-48ec-eb16-69231eb0c3cb"
   },
   "source": [
    "# Файлы в tmp из docker-а\n",
    "!unzip -o -d /content/chatbot/ $ADDITIONAL_FILES/tmp.zip"
   ],
   "execution_count": 11,
   "outputs": [
    {
     "output_type": "stream",
     "text": [
      "Archive:  /content/gdrive/MyDrive/UPWORK/Dmitry_Kartini/koziev-chatbot/addition_data/tmp.zip\n",
      "  inflating: /content/chatbot/tmp/.gitattributes  \n",
      "  inflating: /content/chatbot/tmp/2premises_question_relevancy_via_lgb.config  \n",
      "  inflating: /content/chatbot/tmp/2premises_question_relevancy_via_lgb.model  \n",
      "  inflating: /content/chatbot/tmp/2premises_question_relevancy_via_lgb.vectorizer  \n",
      "  inflating: /content/chatbot/tmp/abracadabra_classifier.model  \n",
      "  inflating: /content/chatbot/tmp/abusive_classifier.model  \n",
      "  inflating: /content/chatbot/tmp/answer_generator.config  \n",
      "  inflating: /content/chatbot/tmp/answer_generator_decoder.weights.data-00000-of-00001  \n",
      "  inflating: /content/chatbot/tmp/answer_generator_decoder.weights.index  \n",
      "  inflating: /content/chatbot/tmp/answer_generator_encoder.weights.data-00000-of-00001  \n",
      "  inflating: /content/chatbot/tmp/answer_generator_encoder.weights.index  \n",
      "  inflating: /content/chatbot/tmp/answer_generator_sentencepiece.model  \n",
      "  inflating: /content/chatbot/tmp/answer_generator_sentencepiece.vocab  \n",
      "  inflating: /content/chatbot/tmp/answer_templates.dat  \n",
      "  inflating: /content/chatbot/tmp/console_chatbot.log  \n",
      "  inflating: /content/chatbot/tmp/dataset_words.txt  \n",
      "  inflating: /content/chatbot/tmp/direction_classifier.model  \n",
      "  inflating: /content/chatbot/tmp/flask_service_bot.log  \n",
      "  inflating: /content/chatbot/tmp/generated_rules.yaml  \n",
      "  inflating: /content/chatbot/tmp/generative_paraphraser.dat  \n",
      "  inflating: /content/chatbot/tmp/intent_classifier.model  \n",
      "  inflating: /content/chatbot/tmp/interpreter_decoder.weights.data-00000-of-00001  \n",
      "  inflating: /content/chatbot/tmp/interpreter_decoder.weights.index  \n",
      "  inflating: /content/chatbot/tmp/interpreter_encoder.weights.data-00000-of-00001  \n",
      "  inflating: /content/chatbot/tmp/interpreter_encoder.weights.index  \n",
      "  inflating: /content/chatbot/tmp/interpreter_sentencepiece.model  \n",
      "  inflating: /content/chatbot/tmp/interpreter_sentencepiece.vocab  \n",
      "  inflating: /content/chatbot/tmp/interpreter_templates2.bin  \n",
      "  inflating: /content/chatbot/tmp/interpreter6.config  \n",
      "  inflating: /content/chatbot/tmp/known_words.txt  \n",
      "  inflating: /content/chatbot/tmp/lgb_relevancy.config  \n",
      "  inflating: /content/chatbot/tmp/lgb_relevancy.log  \n",
      "  inflating: /content/chatbot/tmp/lgb_relevancy.model  \n",
      "  inflating: /content/chatbot/tmp/lgb_req_interpretation.config  \n",
      "  inflating: /content/chatbot/tmp/lgb_req_interpretation.model  \n",
      "  inflating: /content/chatbot/tmp/lgb_req_interpretation.vectorizer  \n",
      "  inflating: /content/chatbot/tmp/lgb_synonymy.config  \n",
      "  inflating: /content/chatbot/tmp/lgb_synonymy.model  \n",
      "  inflating: /content/chatbot/tmp/names.pkl  \n",
      "  inflating: /content/chatbot/tmp/nn_answer_relevancy.arch  \n",
      "  inflating: /content/chatbot/tmp/nn_answer_relevancy.config  \n",
      "  inflating: /content/chatbot/tmp/nn_answer_relevancy.weights  \n",
      "  inflating: /content/chatbot/tmp/nn_enough_premises.arch  \n",
      "  inflating: /content/chatbot/tmp/nn_enough_premises.config  \n",
      "  inflating: /content/chatbot/tmp/nn_enough_premises.weights  \n",
      "  inflating: /content/chatbot/tmp/nn_enough_premises.weights.data-00000-of-00001  \n",
      "  inflating: /content/chatbot/tmp/nn_enough_premises.weights.index  \n",
      "  inflating: /content/chatbot/tmp/nn_enough_premises2.sentencepiece.model  \n",
      "  inflating: /content/chatbot/tmp/nn_enough_premises2.sentencepiece.vocab  \n",
      "  inflating: /content/chatbot/tmp/nn_syntax_validator.arch  \n",
      "  inflating: /content/chatbot/tmp/nn_syntax_validator.config  \n",
      "  inflating: /content/chatbot/tmp/nn_syntax_validator.log  \n",
      "  inflating: /content/chatbot/tmp/nn_syntax_validator.sentencepiece.model  \n",
      "  inflating: /content/chatbot/tmp/nn_syntax_validator.sentencepiece.vocab  \n",
      "  inflating: /content/chatbot/tmp/nn_syntax_validator.weights.data-00000-of-00001  \n",
      "  inflating: /content/chatbot/tmp/nn_syntax_validator.weights.index  \n",
      "  inflating: /content/chatbot/tmp/person_change_dictionary.pickle  \n",
      "  inflating: /content/chatbot/tmp/qa_model_selector.config  \n",
      "   creating: /content/chatbot/tmp/rugpt_checkpoints/\n",
      " extracting: /content/chatbot/tmp/rugpt_checkpoints/added_tokens.json  \n",
      "  inflating: /content/chatbot/tmp/rugpt_checkpoints/config.json  \n",
      "  inflating: /content/chatbot/tmp/rugpt_checkpoints/merges.txt  \n",
      "  inflating: /content/chatbot/tmp/rugpt_checkpoints/pytorch_model.bin  \n",
      "  inflating: /content/chatbot/tmp/rugpt_checkpoints/special_tokens_map.json  \n",
      "  inflating: /content/chatbot/tmp/rugpt_checkpoints/tokenizer_config.json  \n",
      "  inflating: /content/chatbot/tmp/rugpt_checkpoints/training_args.bin  \n",
      "  inflating: /content/chatbot/tmp/rugpt_checkpoints/vocab.json  \n",
      "   creating: /content/chatbot/tmp/rugpt_premise4question/\n",
      " extracting: /content/chatbot/tmp/rugpt_premise4question/added_tokens.json  \n",
      "  inflating: /content/chatbot/tmp/rugpt_premise4question/config.json  \n",
      "  inflating: /content/chatbot/tmp/rugpt_premise4question/merges.txt  \n",
      "  inflating: /content/chatbot/tmp/rugpt_premise4question/pytorch_model.bin  \n",
      "  inflating: /content/chatbot/tmp/rugpt_premise4question/special_tokens_map.json  \n",
      "  inflating: /content/chatbot/tmp/rugpt_premise4question/tokenizer_config.json  \n",
      "  inflating: /content/chatbot/tmp/rugpt_premise4question/training_args.bin  \n",
      "  inflating: /content/chatbot/tmp/rugpt_premise4question/vocab.json  \n",
      "  inflating: /content/chatbot/tmp/sentiment_classifier.model  \n",
      "  inflating: /content/chatbot/tmp/telegram_bot.log  \n",
      "  inflating: /content/chatbot/tmp/udpipe_syntagrus.model  \n",
      "  inflating: /content/chatbot/tmp/w2v.kv  \n",
      "  inflating: /content/chatbot/tmp/w2v.kv.vectors.npy  \n",
      "  inflating: /content/chatbot/tmp/wordchar2vector.arch  \n",
      "  inflating: /content/chatbot/tmp/wordchar2vector.arch.png  \n",
      "  inflating: /content/chatbot/tmp/wordchar2vector.config  \n",
      "  inflating: /content/chatbot/tmp/xgb_answer_generator.config  \n"
     ],
     "name": "stdout"
    }
   ]
  },
  {
   "cell_type": "markdown",
   "metadata": {
    "id": "79OCddv53XD7"
   },
   "source": [
    "# Запускаем"
   ]
  },
  {
   "cell_type": "code",
   "metadata": {
    "colab": {
     "base_uri": "https://localhost:8080/"
    },
    "id": "eCBLGKb7_7pG",
    "outputId": "3bc62d3a-6257-4990-9042-6ff046490e8f"
   },
   "source": [
    "%cd /content/chatbot/scripts\n",
    "!export PYTHONPATH=/content/chatbot\n",
    "!./console_bot.sh"
   ],
   "execution_count": null,
   "outputs": [
    {
     "output_type": "stream",
     "text": [
      "/content/chatbot/scripts\n",
      "2021-07-22 07:40:19.942079: I tensorflow/stream_executor/platform/default/dso_loader.cc:53] Successfully opened dynamic library libcudart.so.11.0\n",
      "2021-07-22 07:41:12.564982: I tensorflow/stream_executor/platform/default/dso_loader.cc:53] Successfully opened dynamic library libcuda.so.1\n",
      "2021-07-22 07:41:12.625178: E tensorflow/stream_executor/cuda/cuda_driver.cc:328] failed call to cuInit: CUDA_ERROR_NO_DEVICE: no CUDA-capable device is detected\n",
      "2021-07-22 07:41:12.625310: I tensorflow/stream_executor/cuda/cuda_diagnostics.cc:156] kernel driver does not appear to be running on this host (cf2af1eddeec): /proc/driver/nvidia/version does not exist\n",
      "2021-07-22 07:41:12.636405: I tensorflow/core/platform/cpu_feature_guard.cc:142] This TensorFlow binary is optimized with oneAPI Deep Neural Network Library (oneDNN) to use the following CPU instructions in performance-critical operations:  AVX512F\n",
      "To enable them in other operations, rebuild TensorFlow with the appropriate compiler flags.\n",
      "\u001B[94mAnswering machine is running on Linux-5.4.104+-x86_64-with-Ubuntu-18.04-bionic py=3.7\u001B[39m\n",
      "\n",
      "\n",
      "B:> \u001B[32mПривет\u001B[39m\n",
      "H:> Привет, как дела?\n",
      "\n",
      "\n",
      "B:> \u001B[32mподскажи, пожалуйста, как зовут тебя?\u001B[39m\n",
      "H:> Что делаешь?\n",
      "2021-07-22 07:44:47.662249: I tensorflow/compiler/mlir/mlir_graph_optimization_pass.cc:176] None of the MLIR Optimization Passes are enabled (registered 2)\n",
      "2021-07-22 07:44:47.679998: I tensorflow/core/platform/profile_utils/cpu_utils.cc:114] CPU Frequency: 2000140000 Hz\n",
      "Андрей\n",
      "2021-07-22 07:45:07.235487: W tensorflow/core/framework/cpu_allocator_impl.cc:80] Allocation of 40960000 exceeds 10% of free system memory.\n"
     ],
     "name": "stdout"
    }
   ]
  }
 ]
}